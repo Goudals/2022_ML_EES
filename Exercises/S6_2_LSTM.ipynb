{
  "nbformat": 4,
  "nbformat_minor": 0,
  "metadata": {
    "colab": {
      "provenance": [],
      "include_colab_link": true
    },
    "kernelspec": {
      "name": "python3",
      "display_name": "Python 3"
    },
    "language_info": {
      "name": "python"
    },
    "gpuClass": "standard",
    "accelerator": "GPU"
  },
  "cells": [
    {
      "cell_type": "markdown",
      "metadata": {
        "id": "view-in-github",
        "colab_type": "text"
      },
      "source": [
        "<a href=\"https://colab.research.google.com/github/Goudals/2022_ML_EES/blob/main/Exercises/S6_2_LSTM.ipynb\" target=\"_parent\"><img src=\"https://colab.research.google.com/assets/colab-badge.svg\" alt=\"Open In Colab\"/></a>"
      ]
    },
    {
      "cell_type": "markdown",
      "source": [
        "#**Week 6 Exercise 2 – Recurrent Neural Networks for Hydrological Modeling**\n"
      ],
      "metadata": {
        "id": "nf7hCHXe6lk7"
      }
    },
    {
      "cell_type": "markdown",
      "source": [
        "<center><img src='https://unils-my.sharepoint.com/:i:/g/personal/tom_beucler_unil_ch/EX7p8EcOwelFg3UkF7576noBzjdubEy10lWXbULT_N6QHw?download=1' width=100%> <i>The rain fell alike upon the just and upon the unjust, and for nothing was there a why and a wherefore. - William Somerset Maugham</i> </center>\n",
        "<br>\n",
        "\n",
        "Rain is oft described as having a gloomy beauty to it, and it continues to inspire authors and scientists alike. Can we use machine learning algorithms to predict rainfall runoff with comparable accuracies to other established methods?"
      ],
      "metadata": {
        "id": "GIjU3VmP7cVw"
      }
    },
    {
      "cell_type": "code",
      "source": [
        "#@title  Run this cell for preliminary requirements. Double click it if you want to check out the source :)\n",
        "\n",
        "# Python ≥3.5 is required\n",
        "import sys\n",
        "assert sys.version_info >= (3, 5)\n",
        "\n",
        "# Is this notebook running on Colab or Kaggle?\n",
        "IS_COLAB = \"google.colab\" in sys.modules\n",
        "\n",
        "# Scikit-Learn ≥0.20 is required\n",
        "import sklearn\n",
        "assert sklearn.__version__ >= \"0.20\"\n",
        "\n",
        "# Common imports\n",
        "import numpy as np\n",
        "import pandas as pd\n",
        "import os\n",
        "\n",
        "# To make this notebook's output stable across runs\n",
        "rnd_seed = 42\n",
        "rnd_gen = np.random.default_rng(rnd_seed)\n",
        "\n",
        "# To plot pretty figures\n",
        "%matplotlib inline\n",
        "import matplotlib as mpl\n",
        "import matplotlib.pyplot as plt\n",
        "mpl.rc('axes', labelsize=14)\n",
        "mpl.rc('xtick', labelsize=12)\n",
        "mpl.rc('ytick', labelsize=12)\n",
        "\n",
        "# Where to save the figures\n",
        "PROJECT_ROOT_DIR = \".\"\n",
        "CHAPTER_ID = \"classification\"\n",
        "IMAGES_PATH = os.path.join(PROJECT_ROOT_DIR, \"images\", CHAPTER_ID)\n",
        "os.makedirs(IMAGES_PATH, exist_ok=True)\n",
        "\n",
        "def save_fig(fig_id, tight_layout=True, fig_extension=\"png\", resolution=300):\n",
        "    path = os.path.join(IMAGES_PATH, fig_id + \".\" + fig_extension)\n",
        "    print(\"Saving figure\", fig_id)\n",
        "    if tight_layout:\n",
        "        plt.tight_layout()\n",
        "    plt.savefig(path, format=fig_extension, dpi=resolution)\n",
        "\n",
        "# Import pooch - used to handle data downloading\n",
        "import pooch"
      ],
      "metadata": {
        "id": "_cUF5bY6xWKy"
      },
      "execution_count": 1,
      "outputs": []
    },
    {
      "cell_type": "markdown",
      "source": [
        "Welcome to the practical application notebook for this week, where we'll be using a Long-Short Term Memory (LSTM) neural network in order to model rainfall-runoff! Let's begin by loading in our data using pooch and pandas."
      ],
      "metadata": {
        "id": "Aw1dLJvi_rab"
      }
    },
    {
      "cell_type": "code",
      "source": [
        "#@title Let's download the data onto the storage on the server using pooch. Remember you can check the source by double cliking on cells like these. \n",
        "data_url = 'https://unils-my.sharepoint.com/:x:/g/personal/tom_beucler_unil_ch/EQ0OKNafmxdJvXUMPfwGyecBwCPZJ1Y8_ATlmbrUFySkzw?download=1'\n",
        "data_file = pooch.retrieve(data_url, known_hash='3b647bb9318865be5858bccd1539148fbc58f7425d09ac62d8e459682958940a');\n"
      ],
      "metadata": {
        "id": "5EfbgXH40jbk"
      },
      "execution_count": 2,
      "outputs": []
    },
    {
      "cell_type": "markdown",
      "source": [
        "###**Q1) Go ahead and load the csv file with the data for our project today. The filepath is stored in the `data_file` variable that was defined in the hidden code within the cell above this one!**"
      ],
      "metadata": {
        "id": "hTPSh07UFntb"
      }
    },
    {
      "cell_type": "code",
      "source": [
        "#@title Hints - Loading CSVs with Pandas\n",
        "\n",
        "'''\n",
        "Pandas has a handy .read_csv function!\n",
        "\n",
        "There's an argument you can pass which will let you define the column to use as\n",
        "an index. \n",
        "\n",
        "There's also a single argument which when set to true will make pandas try to\n",
        "automatically parse fields it thinks are dates into datetime variables. This\n",
        "will be usefull when we split the data!\n",
        "\n",
        "''';\n",
        "# Uncomment the line below and run this cell to open up the help dialog in colab\n",
        "#pd.read_csv??\n",
        "\n",
        "# Uncomment the code below and run the cell to get a look at the data \n",
        "pd.read_csv(data_file).head()"
      ],
      "metadata": {
        "id": "8eXgMZlhHPsC",
        "outputId": "f339db3c-1ee3-44f6-cefa-af8d82c549c2",
        "colab": {
          "base_uri": "https://localhost:8080/",
          "height": 206
        }
      },
      "execution_count": 3,
      "outputs": [
        {
          "output_type": "execute_result",
          "data": {
            "text/plain": [
              "  Unnamed: 0    T    P1    P2  runoff\n",
              "0   1/1/1931  3.6   1.6   1.0    3.91\n",
              "1   1/2/1931  3.6   2.8   3.8    4.01\n",
              "2   1/3/1931  5.4   0.0   0.1    3.91\n",
              "3   1/4/1931  3.9  13.1  10.8    4.92\n",
              "4   1/5/1931  0.5   0.0   0.0    4.67"
            ],
            "text/html": [
              "\n",
              "  <div id=\"df-ae47c8b7-d701-4d9d-bbbf-3e5660e740ae\">\n",
              "    <div class=\"colab-df-container\">\n",
              "      <div>\n",
              "<style scoped>\n",
              "    .dataframe tbody tr th:only-of-type {\n",
              "        vertical-align: middle;\n",
              "    }\n",
              "\n",
              "    .dataframe tbody tr th {\n",
              "        vertical-align: top;\n",
              "    }\n",
              "\n",
              "    .dataframe thead th {\n",
              "        text-align: right;\n",
              "    }\n",
              "</style>\n",
              "<table border=\"1\" class=\"dataframe\">\n",
              "  <thead>\n",
              "    <tr style=\"text-align: right;\">\n",
              "      <th></th>\n",
              "      <th>Unnamed: 0</th>\n",
              "      <th>T</th>\n",
              "      <th>P1</th>\n",
              "      <th>P2</th>\n",
              "      <th>runoff</th>\n",
              "    </tr>\n",
              "  </thead>\n",
              "  <tbody>\n",
              "    <tr>\n",
              "      <th>0</th>\n",
              "      <td>1/1/1931</td>\n",
              "      <td>3.6</td>\n",
              "      <td>1.6</td>\n",
              "      <td>1.0</td>\n",
              "      <td>3.91</td>\n",
              "    </tr>\n",
              "    <tr>\n",
              "      <th>1</th>\n",
              "      <td>1/2/1931</td>\n",
              "      <td>3.6</td>\n",
              "      <td>2.8</td>\n",
              "      <td>3.8</td>\n",
              "      <td>4.01</td>\n",
              "    </tr>\n",
              "    <tr>\n",
              "      <th>2</th>\n",
              "      <td>1/3/1931</td>\n",
              "      <td>5.4</td>\n",
              "      <td>0.0</td>\n",
              "      <td>0.1</td>\n",
              "      <td>3.91</td>\n",
              "    </tr>\n",
              "    <tr>\n",
              "      <th>3</th>\n",
              "      <td>1/4/1931</td>\n",
              "      <td>3.9</td>\n",
              "      <td>13.1</td>\n",
              "      <td>10.8</td>\n",
              "      <td>4.92</td>\n",
              "    </tr>\n",
              "    <tr>\n",
              "      <th>4</th>\n",
              "      <td>1/5/1931</td>\n",
              "      <td>0.5</td>\n",
              "      <td>0.0</td>\n",
              "      <td>0.0</td>\n",
              "      <td>4.67</td>\n",
              "    </tr>\n",
              "  </tbody>\n",
              "</table>\n",
              "</div>\n",
              "      <button class=\"colab-df-convert\" onclick=\"convertToInteractive('df-ae47c8b7-d701-4d9d-bbbf-3e5660e740ae')\"\n",
              "              title=\"Convert this dataframe to an interactive table.\"\n",
              "              style=\"display:none;\">\n",
              "        \n",
              "  <svg xmlns=\"http://www.w3.org/2000/svg\" height=\"24px\"viewBox=\"0 0 24 24\"\n",
              "       width=\"24px\">\n",
              "    <path d=\"M0 0h24v24H0V0z\" fill=\"none\"/>\n",
              "    <path d=\"M18.56 5.44l.94 2.06.94-2.06 2.06-.94-2.06-.94-.94-2.06-.94 2.06-2.06.94zm-11 1L8.5 8.5l.94-2.06 2.06-.94-2.06-.94L8.5 2.5l-.94 2.06-2.06.94zm10 10l.94 2.06.94-2.06 2.06-.94-2.06-.94-.94-2.06-.94 2.06-2.06.94z\"/><path d=\"M17.41 7.96l-1.37-1.37c-.4-.4-.92-.59-1.43-.59-.52 0-1.04.2-1.43.59L10.3 9.45l-7.72 7.72c-.78.78-.78 2.05 0 2.83L4 21.41c.39.39.9.59 1.41.59.51 0 1.02-.2 1.41-.59l7.78-7.78 2.81-2.81c.8-.78.8-2.07 0-2.86zM5.41 20L4 18.59l7.72-7.72 1.47 1.35L5.41 20z\"/>\n",
              "  </svg>\n",
              "      </button>\n",
              "      \n",
              "  <style>\n",
              "    .colab-df-container {\n",
              "      display:flex;\n",
              "      flex-wrap:wrap;\n",
              "      gap: 12px;\n",
              "    }\n",
              "\n",
              "    .colab-df-convert {\n",
              "      background-color: #E8F0FE;\n",
              "      border: none;\n",
              "      border-radius: 50%;\n",
              "      cursor: pointer;\n",
              "      display: none;\n",
              "      fill: #1967D2;\n",
              "      height: 32px;\n",
              "      padding: 0 0 0 0;\n",
              "      width: 32px;\n",
              "    }\n",
              "\n",
              "    .colab-df-convert:hover {\n",
              "      background-color: #E2EBFA;\n",
              "      box-shadow: 0px 1px 2px rgba(60, 64, 67, 0.3), 0px 1px 3px 1px rgba(60, 64, 67, 0.15);\n",
              "      fill: #174EA6;\n",
              "    }\n",
              "\n",
              "    [theme=dark] .colab-df-convert {\n",
              "      background-color: #3B4455;\n",
              "      fill: #D2E3FC;\n",
              "    }\n",
              "\n",
              "    [theme=dark] .colab-df-convert:hover {\n",
              "      background-color: #434B5C;\n",
              "      box-shadow: 0px 1px 3px 1px rgba(0, 0, 0, 0.15);\n",
              "      filter: drop-shadow(0px 1px 2px rgba(0, 0, 0, 0.3));\n",
              "      fill: #FFFFFF;\n",
              "    }\n",
              "  </style>\n",
              "\n",
              "      <script>\n",
              "        const buttonEl =\n",
              "          document.querySelector('#df-ae47c8b7-d701-4d9d-bbbf-3e5660e740ae button.colab-df-convert');\n",
              "        buttonEl.style.display =\n",
              "          google.colab.kernel.accessAllowed ? 'block' : 'none';\n",
              "\n",
              "        async function convertToInteractive(key) {\n",
              "          const element = document.querySelector('#df-ae47c8b7-d701-4d9d-bbbf-3e5660e740ae');\n",
              "          const dataTable =\n",
              "            await google.colab.kernel.invokeFunction('convertToInteractive',\n",
              "                                                     [key], {});\n",
              "          if (!dataTable) return;\n",
              "\n",
              "          const docLinkHtml = 'Like what you see? Visit the ' +\n",
              "            '<a target=\"_blank\" href=https://colab.research.google.com/notebooks/data_table.ipynb>data table notebook</a>'\n",
              "            + ' to learn more about interactive tables.';\n",
              "          element.innerHTML = '';\n",
              "          dataTable['output_type'] = 'display_data';\n",
              "          await google.colab.output.renderOutput(dataTable, element);\n",
              "          const docLink = document.createElement('div');\n",
              "          docLink.innerHTML = docLinkHtml;\n",
              "          element.appendChild(docLink);\n",
              "        }\n",
              "      </script>\n",
              "    </div>\n",
              "  </div>\n",
              "  "
            ]
          },
          "metadata": {},
          "execution_count": 3
        }
      ]
    },
    {
      "cell_type": "code",
      "source": [
        "# Let's load the CSV file into the \"data\" variable\n",
        "data = pd.read_csv(data_file, # Path to the CSV\n",
        "                       index_col = \"Unnamed: 0\", # Define the date column as the index. \n",
        "                       parse_dates = True, # Tell pandas to parse the date index.\n",
        "                       )\n",
        "\n",
        "# Print the first 5 rows of data to see if we've loaded it correctly! \n",
        "data.head()"
      ],
      "metadata": {
        "id": "51yflhMwFHed",
        "outputId": "136453a7-f00f-4061-ebdb-34e4c29ffcfa",
        "colab": {
          "base_uri": "https://localhost:8080/",
          "height": 206
        }
      },
      "execution_count": 4,
      "outputs": [
        {
          "output_type": "execute_result",
          "data": {
            "text/plain": [
              "              T    P1    P2  runoff\n",
              "1931-01-01  3.6   1.6   1.0    3.91\n",
              "1931-01-02  3.6   2.8   3.8    4.01\n",
              "1931-01-03  5.4   0.0   0.1    3.91\n",
              "1931-01-04  3.9  13.1  10.8    4.92\n",
              "1931-01-05  0.5   0.0   0.0    4.67"
            ],
            "text/html": [
              "\n",
              "  <div id=\"df-92b3cbd0-e1be-40cf-b27f-dd955eed9cdc\">\n",
              "    <div class=\"colab-df-container\">\n",
              "      <div>\n",
              "<style scoped>\n",
              "    .dataframe tbody tr th:only-of-type {\n",
              "        vertical-align: middle;\n",
              "    }\n",
              "\n",
              "    .dataframe tbody tr th {\n",
              "        vertical-align: top;\n",
              "    }\n",
              "\n",
              "    .dataframe thead th {\n",
              "        text-align: right;\n",
              "    }\n",
              "</style>\n",
              "<table border=\"1\" class=\"dataframe\">\n",
              "  <thead>\n",
              "    <tr style=\"text-align: right;\">\n",
              "      <th></th>\n",
              "      <th>T</th>\n",
              "      <th>P1</th>\n",
              "      <th>P2</th>\n",
              "      <th>runoff</th>\n",
              "    </tr>\n",
              "  </thead>\n",
              "  <tbody>\n",
              "    <tr>\n",
              "      <th>1931-01-01</th>\n",
              "      <td>3.6</td>\n",
              "      <td>1.6</td>\n",
              "      <td>1.0</td>\n",
              "      <td>3.91</td>\n",
              "    </tr>\n",
              "    <tr>\n",
              "      <th>1931-01-02</th>\n",
              "      <td>3.6</td>\n",
              "      <td>2.8</td>\n",
              "      <td>3.8</td>\n",
              "      <td>4.01</td>\n",
              "    </tr>\n",
              "    <tr>\n",
              "      <th>1931-01-03</th>\n",
              "      <td>5.4</td>\n",
              "      <td>0.0</td>\n",
              "      <td>0.1</td>\n",
              "      <td>3.91</td>\n",
              "    </tr>\n",
              "    <tr>\n",
              "      <th>1931-01-04</th>\n",
              "      <td>3.9</td>\n",
              "      <td>13.1</td>\n",
              "      <td>10.8</td>\n",
              "      <td>4.92</td>\n",
              "    </tr>\n",
              "    <tr>\n",
              "      <th>1931-01-05</th>\n",
              "      <td>0.5</td>\n",
              "      <td>0.0</td>\n",
              "      <td>0.0</td>\n",
              "      <td>4.67</td>\n",
              "    </tr>\n",
              "  </tbody>\n",
              "</table>\n",
              "</div>\n",
              "      <button class=\"colab-df-convert\" onclick=\"convertToInteractive('df-92b3cbd0-e1be-40cf-b27f-dd955eed9cdc')\"\n",
              "              title=\"Convert this dataframe to an interactive table.\"\n",
              "              style=\"display:none;\">\n",
              "        \n",
              "  <svg xmlns=\"http://www.w3.org/2000/svg\" height=\"24px\"viewBox=\"0 0 24 24\"\n",
              "       width=\"24px\">\n",
              "    <path d=\"M0 0h24v24H0V0z\" fill=\"none\"/>\n",
              "    <path d=\"M18.56 5.44l.94 2.06.94-2.06 2.06-.94-2.06-.94-.94-2.06-.94 2.06-2.06.94zm-11 1L8.5 8.5l.94-2.06 2.06-.94-2.06-.94L8.5 2.5l-.94 2.06-2.06.94zm10 10l.94 2.06.94-2.06 2.06-.94-2.06-.94-.94-2.06-.94 2.06-2.06.94z\"/><path d=\"M17.41 7.96l-1.37-1.37c-.4-.4-.92-.59-1.43-.59-.52 0-1.04.2-1.43.59L10.3 9.45l-7.72 7.72c-.78.78-.78 2.05 0 2.83L4 21.41c.39.39.9.59 1.41.59.51 0 1.02-.2 1.41-.59l7.78-7.78 2.81-2.81c.8-.78.8-2.07 0-2.86zM5.41 20L4 18.59l7.72-7.72 1.47 1.35L5.41 20z\"/>\n",
              "  </svg>\n",
              "      </button>\n",
              "      \n",
              "  <style>\n",
              "    .colab-df-container {\n",
              "      display:flex;\n",
              "      flex-wrap:wrap;\n",
              "      gap: 12px;\n",
              "    }\n",
              "\n",
              "    .colab-df-convert {\n",
              "      background-color: #E8F0FE;\n",
              "      border: none;\n",
              "      border-radius: 50%;\n",
              "      cursor: pointer;\n",
              "      display: none;\n",
              "      fill: #1967D2;\n",
              "      height: 32px;\n",
              "      padding: 0 0 0 0;\n",
              "      width: 32px;\n",
              "    }\n",
              "\n",
              "    .colab-df-convert:hover {\n",
              "      background-color: #E2EBFA;\n",
              "      box-shadow: 0px 1px 2px rgba(60, 64, 67, 0.3), 0px 1px 3px 1px rgba(60, 64, 67, 0.15);\n",
              "      fill: #174EA6;\n",
              "    }\n",
              "\n",
              "    [theme=dark] .colab-df-convert {\n",
              "      background-color: #3B4455;\n",
              "      fill: #D2E3FC;\n",
              "    }\n",
              "\n",
              "    [theme=dark] .colab-df-convert:hover {\n",
              "      background-color: #434B5C;\n",
              "      box-shadow: 0px 1px 3px 1px rgba(0, 0, 0, 0.15);\n",
              "      filter: drop-shadow(0px 1px 2px rgba(0, 0, 0, 0.3));\n",
              "      fill: #FFFFFF;\n",
              "    }\n",
              "  </style>\n",
              "\n",
              "      <script>\n",
              "        const buttonEl =\n",
              "          document.querySelector('#df-92b3cbd0-e1be-40cf-b27f-dd955eed9cdc button.colab-df-convert');\n",
              "        buttonEl.style.display =\n",
              "          google.colab.kernel.accessAllowed ? 'block' : 'none';\n",
              "\n",
              "        async function convertToInteractive(key) {\n",
              "          const element = document.querySelector('#df-92b3cbd0-e1be-40cf-b27f-dd955eed9cdc');\n",
              "          const dataTable =\n",
              "            await google.colab.kernel.invokeFunction('convertToInteractive',\n",
              "                                                     [key], {});\n",
              "          if (!dataTable) return;\n",
              "\n",
              "          const docLinkHtml = 'Like what you see? Visit the ' +\n",
              "            '<a target=\"_blank\" href=https://colab.research.google.com/notebooks/data_table.ipynb>data table notebook</a>'\n",
              "            + ' to learn more about interactive tables.';\n",
              "          element.innerHTML = '';\n",
              "          dataTable['output_type'] = 'display_data';\n",
              "          await google.colab.output.renderOutput(dataTable, element);\n",
              "          const docLink = document.createElement('div');\n",
              "          docLink.innerHTML = docLinkHtml;\n",
              "          element.appendChild(docLink);\n",
              "        }\n",
              "      </script>\n",
              "    </div>\n",
              "  </div>\n",
              "  "
            ]
          },
          "metadata": {},
          "execution_count": 4
        }
      ]
    },
    {
      "cell_type": "markdown",
      "source": [
        "We now have our data in a nice format for us to use. You'll see that our data has an index column, a T column, a P1 column, a P2 column, and a runoff column. The index column is the date of our measurements, the T column is the mean daily temperature at a station, the P1 and P2 columns are the daily precipitations at two stations, and the runoff column is the daily streamflow at one station.\n",
        "\n",
        " Let's go ahead and figure out how many years of data we have by looking at the time index."
      ],
      "metadata": {
        "id": "vnnBVmqzU9mh"
      }
    },
    {
      "cell_type": "markdown",
      "source": [
        "###**Q2) Store the list of available years of data in a variable, and print out the length of the list.**"
      ],
      "metadata": {
        "id": "aeDbgSQ4_yfV"
      }
    },
    {
      "cell_type": "code",
      "source": [
        "#@title Hint: How to use Pandas datetimeIndex\n",
        "'''\n",
        "When loading the data, we used the date column as the index - this means that \n",
        "we can access the date using the .index attribute of the dataframe.\n",
        "e.g.: for the df dataframe, df.index will return the index column\n",
        "\n",
        "Additionally, we set parse_dates to True, so the dates were transformed from\n",
        "a simple test representation of the date to a more powerfull pandas datetime\n",
        "format. Here, we can directly access key parts of the date\n",
        "e.g.: df.index.month will retrieve the month for each row index.\n",
        "\n",
        "This can be useful for verifying or selected seasonal data, such as\n",
        "for winter (december-january-february, or djf). Using built-in pandas functions\n",
        "to find the unique values in the index.month column would let us\n",
        "verify that all relevant month values are present (i.e., 1, 2, 12)\n",
        "''';"
      ],
      "metadata": {
        "id": "jeMvYAoZ_71Y"
      },
      "execution_count": 5,
      "outputs": []
    },
    {
      "cell_type": "code",
      "source": [
        "years_available = data.index.year.unique() # Find the unique year values\n",
        "print(len(years_available))"
      ],
      "metadata": {
        "id": "K0Vwm9mb_xrs",
        "outputId": "9afe9c9a-c5de-4e4c-d482-2a57de5e9172",
        "colab": {
          "base_uri": "https://localhost:8080/"
        }
      },
      "execution_count": 6,
      "outputs": [
        {
          "output_type": "stream",
          "name": "stdout",
          "text": [
            "40\n"
          ]
        }
      ]
    },
    {
      "cell_type": "markdown",
      "source": [
        "Now we need to split the dataset into a training, validation, and test set to use with our algorithm. Since we're dealing with time series data, let's use the last 10 of the years available as the test dataset, the 10 years previous to that as the validation dataset, and the remainder of the data will be used to train our algorithm."
      ],
      "metadata": {
        "id": "YNIMPQ-JAjNb"
      }
    },
    {
      "cell_type": "markdown",
      "source": [
        "###**Q3) Split the dataset into a training, validation, and test set.**"
      ],
      "metadata": {
        "id": "qSR_tbHgYbzi"
      }
    },
    {
      "cell_type": "code",
      "source": [
        "#@title Hint: Review of array slicing\n",
        "'''\n",
        "You can select data in an array/DataFrame using an index within square brackets\n",
        "data[num_index] will return the value of data at the nth num_index entry. This\n",
        "also works with negative numbers, which are used to count from the end of the \n",
        "array.\n",
        "e.g., if we define myArray = [0 1 2 3 4 5 6 7 8 9]\n",
        "myArray[0] will return 0, myArray[1] will return 1\n",
        "myArray[-1] will return 9, myArray[-2] will return 8\n",
        "\n",
        "We can also select multiple values of the array using colons. Remember that\n",
        "indices use the [start:end:step] convention\n",
        "myArray [4:] will return [4, 5, 6, 7, 8, 9]\n",
        "myArray [:4] will return [0, 1, 2, 3]\n",
        "myArray [2:5] will return [2,3,4]\n",
        "myArray [-3:] will return [7, 8, 9]\n",
        "myArray [-5:-2] will return [5, 6, 7]\n",
        "myArray [2:-2] will return [2, 3, 4, 5, 6, 7]\n",
        "\n",
        "Stepping\n",
        "myArray [::2] will return [0, 2, 4, 6, 8]\n",
        "myArray [-4::2] will return [6, 8]\n",
        "myArray [2:-2:2] will return [2, 4, 6]\n",
        "''';"
      ],
      "metadata": {
        "id": "1-yKwVG_ZpK7"
      },
      "execution_count": 7,
      "outputs": []
    },
    {
      "cell_type": "code",
      "source": [
        "#@title Hint: Finding/Selecting data in a Pandas dataframe\n",
        "'''\n",
        "Pandas dataframes have useful functions that allow you to filter values.\n",
        "One way to filter for specific time values is to rely on the `isin()` method\n",
        "of datasets. https://pandas.pydata.org/docs/reference/api/pandas.DataFrame.isin.html\n",
        "\n",
        "For example, if we were trying to take a dataset covering every month of the\n",
        "year and we're only interested in the winter season (DJF), we could use:\n",
        "boolean_index = df.index.month.isin([12,1,2])\n",
        "This would return a boolean index that you can use to select the relevant rows\n",
        "from the dataframe.\n",
        "\n",
        "In order to select the relevant datapoints, you can rely on the .loc method: \n",
        "https://pandas.pydata.org/docs/reference/api/pandas.DataFrame.loc.html\n",
        "Using this method, you could select the data as follows:\n",
        "relevant_datapoints = df.loc[boolean_index]\n",
        "\n",
        "If you want to select every month that is _not_ in winter, you would instead\n",
        "write: \n",
        "relevant_datapoints = df.loc[~boolean_index]\n",
        "Since ~ is the bitwise negation operator, it effectively \"nots\" boolean arrays\n",
        "''';"
      ],
      "metadata": {
        "id": "Zp-9x0lOZpCY"
      },
      "execution_count": 8,
      "outputs": []
    },
    {
      "cell_type": "code",
      "source": [
        "#Select the last ten years for your test set\n",
        "test_years = years_available[len(years_available)-10:]\n",
        "test_years"
      ],
      "metadata": {
        "id": "-Sk3guB-Iby0",
        "outputId": "454c16ef-006f-4b77-9d40-38890b0da283",
        "colab": {
          "base_uri": "https://localhost:8080/"
        }
      },
      "execution_count": 9,
      "outputs": [
        {
          "output_type": "execute_result",
          "data": {
            "text/plain": [
              "Int64Index([1961, 1962, 1963, 1964, 1965, 1966, 1967, 1968, 1969, 1970], dtype='int64')"
            ]
          },
          "metadata": {},
          "execution_count": 9
        }
      ]
    },
    {
      "cell_type": "code",
      "source": [
        "# Select ten years at random from the remaining set\n",
        "validation_years = np.random.choice(years_available[0:len(years_available)-10], size=10)\n",
        "validation_years"
      ],
      "metadata": {
        "id": "-6fBBVlsRZR7",
        "outputId": "507e449b-8e9e-4484-96af-357675f158d4",
        "colab": {
          "base_uri": "https://localhost:8080/"
        }
      },
      "execution_count": 10,
      "outputs": [
        {
          "output_type": "execute_result",
          "data": {
            "text/plain": [
              "array([1952, 1936, 1939, 1944, 1940, 1959, 1954, 1960, 1960, 1935])"
            ]
          },
          "metadata": {},
          "execution_count": 10
        }
      ]
    },
    {
      "cell_type": "code",
      "source": [
        "# define the test set: test_set\n",
        "test_set = data.loc[data.index.year.isin(test_years)]\n",
        "test_set"
      ],
      "metadata": {
        "id": "hmTCwLpvRbzx",
        "outputId": "c2f70323-c41f-4f8f-a362-53f20d7c90fc",
        "colab": {
          "base_uri": "https://localhost:8080/",
          "height": 424
        }
      },
      "execution_count": 11,
      "outputs": [
        {
          "output_type": "execute_result",
          "data": {
            "text/plain": [
              "              T    P1    P2  runoff\n",
              "1961-01-01  1.0   6.0   7.4    3.60\n",
              "1961-01-02  0.4   0.2   0.0    3.40\n",
              "1961-01-03  2.7  13.7  12.2    3.50\n",
              "1961-01-04  0.3   0.5   2.4    3.40\n",
              "1961-01-05 -0.4   0.3   0.5    3.40\n",
              "...         ...   ...   ...     ...\n",
              "1970-12-27 -3.2   0.0   0.0    2.96\n",
              "1970-12-28 -4.1   0.2   1.1    3.03\n",
              "1970-12-29 -2.7   2.8   1.7    3.11\n",
              "1970-12-30 -1.7   4.8   3.0    3.11\n",
              "1970-12-31 -1.7   5.8   3.0    3.03\n",
              "\n",
              "[3652 rows x 4 columns]"
            ],
            "text/html": [
              "\n",
              "  <div id=\"df-2d7fe2b9-fbe0-4e90-b060-0d3b29875cfd\">\n",
              "    <div class=\"colab-df-container\">\n",
              "      <div>\n",
              "<style scoped>\n",
              "    .dataframe tbody tr th:only-of-type {\n",
              "        vertical-align: middle;\n",
              "    }\n",
              "\n",
              "    .dataframe tbody tr th {\n",
              "        vertical-align: top;\n",
              "    }\n",
              "\n",
              "    .dataframe thead th {\n",
              "        text-align: right;\n",
              "    }\n",
              "</style>\n",
              "<table border=\"1\" class=\"dataframe\">\n",
              "  <thead>\n",
              "    <tr style=\"text-align: right;\">\n",
              "      <th></th>\n",
              "      <th>T</th>\n",
              "      <th>P1</th>\n",
              "      <th>P2</th>\n",
              "      <th>runoff</th>\n",
              "    </tr>\n",
              "  </thead>\n",
              "  <tbody>\n",
              "    <tr>\n",
              "      <th>1961-01-01</th>\n",
              "      <td>1.0</td>\n",
              "      <td>6.0</td>\n",
              "      <td>7.4</td>\n",
              "      <td>3.60</td>\n",
              "    </tr>\n",
              "    <tr>\n",
              "      <th>1961-01-02</th>\n",
              "      <td>0.4</td>\n",
              "      <td>0.2</td>\n",
              "      <td>0.0</td>\n",
              "      <td>3.40</td>\n",
              "    </tr>\n",
              "    <tr>\n",
              "      <th>1961-01-03</th>\n",
              "      <td>2.7</td>\n",
              "      <td>13.7</td>\n",
              "      <td>12.2</td>\n",
              "      <td>3.50</td>\n",
              "    </tr>\n",
              "    <tr>\n",
              "      <th>1961-01-04</th>\n",
              "      <td>0.3</td>\n",
              "      <td>0.5</td>\n",
              "      <td>2.4</td>\n",
              "      <td>3.40</td>\n",
              "    </tr>\n",
              "    <tr>\n",
              "      <th>1961-01-05</th>\n",
              "      <td>-0.4</td>\n",
              "      <td>0.3</td>\n",
              "      <td>0.5</td>\n",
              "      <td>3.40</td>\n",
              "    </tr>\n",
              "    <tr>\n",
              "      <th>...</th>\n",
              "      <td>...</td>\n",
              "      <td>...</td>\n",
              "      <td>...</td>\n",
              "      <td>...</td>\n",
              "    </tr>\n",
              "    <tr>\n",
              "      <th>1970-12-27</th>\n",
              "      <td>-3.2</td>\n",
              "      <td>0.0</td>\n",
              "      <td>0.0</td>\n",
              "      <td>2.96</td>\n",
              "    </tr>\n",
              "    <tr>\n",
              "      <th>1970-12-28</th>\n",
              "      <td>-4.1</td>\n",
              "      <td>0.2</td>\n",
              "      <td>1.1</td>\n",
              "      <td>3.03</td>\n",
              "    </tr>\n",
              "    <tr>\n",
              "      <th>1970-12-29</th>\n",
              "      <td>-2.7</td>\n",
              "      <td>2.8</td>\n",
              "      <td>1.7</td>\n",
              "      <td>3.11</td>\n",
              "    </tr>\n",
              "    <tr>\n",
              "      <th>1970-12-30</th>\n",
              "      <td>-1.7</td>\n",
              "      <td>4.8</td>\n",
              "      <td>3.0</td>\n",
              "      <td>3.11</td>\n",
              "    </tr>\n",
              "    <tr>\n",
              "      <th>1970-12-31</th>\n",
              "      <td>-1.7</td>\n",
              "      <td>5.8</td>\n",
              "      <td>3.0</td>\n",
              "      <td>3.03</td>\n",
              "    </tr>\n",
              "  </tbody>\n",
              "</table>\n",
              "<p>3652 rows × 4 columns</p>\n",
              "</div>\n",
              "      <button class=\"colab-df-convert\" onclick=\"convertToInteractive('df-2d7fe2b9-fbe0-4e90-b060-0d3b29875cfd')\"\n",
              "              title=\"Convert this dataframe to an interactive table.\"\n",
              "              style=\"display:none;\">\n",
              "        \n",
              "  <svg xmlns=\"http://www.w3.org/2000/svg\" height=\"24px\"viewBox=\"0 0 24 24\"\n",
              "       width=\"24px\">\n",
              "    <path d=\"M0 0h24v24H0V0z\" fill=\"none\"/>\n",
              "    <path d=\"M18.56 5.44l.94 2.06.94-2.06 2.06-.94-2.06-.94-.94-2.06-.94 2.06-2.06.94zm-11 1L8.5 8.5l.94-2.06 2.06-.94-2.06-.94L8.5 2.5l-.94 2.06-2.06.94zm10 10l.94 2.06.94-2.06 2.06-.94-2.06-.94-.94-2.06-.94 2.06-2.06.94z\"/><path d=\"M17.41 7.96l-1.37-1.37c-.4-.4-.92-.59-1.43-.59-.52 0-1.04.2-1.43.59L10.3 9.45l-7.72 7.72c-.78.78-.78 2.05 0 2.83L4 21.41c.39.39.9.59 1.41.59.51 0 1.02-.2 1.41-.59l7.78-7.78 2.81-2.81c.8-.78.8-2.07 0-2.86zM5.41 20L4 18.59l7.72-7.72 1.47 1.35L5.41 20z\"/>\n",
              "  </svg>\n",
              "      </button>\n",
              "      \n",
              "  <style>\n",
              "    .colab-df-container {\n",
              "      display:flex;\n",
              "      flex-wrap:wrap;\n",
              "      gap: 12px;\n",
              "    }\n",
              "\n",
              "    .colab-df-convert {\n",
              "      background-color: #E8F0FE;\n",
              "      border: none;\n",
              "      border-radius: 50%;\n",
              "      cursor: pointer;\n",
              "      display: none;\n",
              "      fill: #1967D2;\n",
              "      height: 32px;\n",
              "      padding: 0 0 0 0;\n",
              "      width: 32px;\n",
              "    }\n",
              "\n",
              "    .colab-df-convert:hover {\n",
              "      background-color: #E2EBFA;\n",
              "      box-shadow: 0px 1px 2px rgba(60, 64, 67, 0.3), 0px 1px 3px 1px rgba(60, 64, 67, 0.15);\n",
              "      fill: #174EA6;\n",
              "    }\n",
              "\n",
              "    [theme=dark] .colab-df-convert {\n",
              "      background-color: #3B4455;\n",
              "      fill: #D2E3FC;\n",
              "    }\n",
              "\n",
              "    [theme=dark] .colab-df-convert:hover {\n",
              "      background-color: #434B5C;\n",
              "      box-shadow: 0px 1px 3px 1px rgba(0, 0, 0, 0.15);\n",
              "      filter: drop-shadow(0px 1px 2px rgba(0, 0, 0, 0.3));\n",
              "      fill: #FFFFFF;\n",
              "    }\n",
              "  </style>\n",
              "\n",
              "      <script>\n",
              "        const buttonEl =\n",
              "          document.querySelector('#df-2d7fe2b9-fbe0-4e90-b060-0d3b29875cfd button.colab-df-convert');\n",
              "        buttonEl.style.display =\n",
              "          google.colab.kernel.accessAllowed ? 'block' : 'none';\n",
              "\n",
              "        async function convertToInteractive(key) {\n",
              "          const element = document.querySelector('#df-2d7fe2b9-fbe0-4e90-b060-0d3b29875cfd');\n",
              "          const dataTable =\n",
              "            await google.colab.kernel.invokeFunction('convertToInteractive',\n",
              "                                                     [key], {});\n",
              "          if (!dataTable) return;\n",
              "\n",
              "          const docLinkHtml = 'Like what you see? Visit the ' +\n",
              "            '<a target=\"_blank\" href=https://colab.research.google.com/notebooks/data_table.ipynb>data table notebook</a>'\n",
              "            + ' to learn more about interactive tables.';\n",
              "          element.innerHTML = '';\n",
              "          dataTable['output_type'] = 'display_data';\n",
              "          await google.colab.output.renderOutput(dataTable, element);\n",
              "          const docLink = document.createElement('div');\n",
              "          docLink.innerHTML = docLinkHtml;\n",
              "          element.appendChild(docLink);\n",
              "        }\n",
              "      </script>\n",
              "    </div>\n",
              "  </div>\n",
              "  "
            ]
          },
          "metadata": {},
          "execution_count": 11
        }
      ]
    },
    {
      "cell_type": "code",
      "source": [
        "# define the validation set: val_set\n",
        "val_set = data.loc[data.index.year.isin(validation_years)]\n",
        "val_set"
      ],
      "metadata": {
        "id": "7GATUdKdRfUO",
        "outputId": "57ffb32e-c099-4641-f13a-31605e521fd5",
        "colab": {
          "base_uri": "https://localhost:8080/",
          "height": 424
        }
      },
      "execution_count": 12,
      "outputs": [
        {
          "output_type": "execute_result",
          "data": {
            "text/plain": [
              "              T    P1    P2  runoff\n",
              "1935-01-01  3.3  32.0  28.9    4.00\n",
              "1935-01-02  3.0   0.2   0.2    4.13\n",
              "1935-01-03  0.6   0.0   0.0    3.46\n",
              "1935-01-04  1.9  16.0  16.7    3.86\n",
              "1935-01-05  1.6   8.0  20.7    3.73\n",
              "...         ...   ...   ...     ...\n",
              "1960-12-27  0.2   6.7   5.7    3.60\n",
              "1960-12-28 -0.6   0.8   0.2    3.60\n",
              "1960-12-29 -3.9   0.0   0.0    3.40\n",
              "1960-12-30 -7.0   0.0   0.0    3.32\n",
              "1960-12-31  0.7   0.7   1.2    3.40\n",
              "\n",
              "[3290 rows x 4 columns]"
            ],
            "text/html": [
              "\n",
              "  <div id=\"df-e60d248c-77c0-4de9-bd11-1431b4d5c8a1\">\n",
              "    <div class=\"colab-df-container\">\n",
              "      <div>\n",
              "<style scoped>\n",
              "    .dataframe tbody tr th:only-of-type {\n",
              "        vertical-align: middle;\n",
              "    }\n",
              "\n",
              "    .dataframe tbody tr th {\n",
              "        vertical-align: top;\n",
              "    }\n",
              "\n",
              "    .dataframe thead th {\n",
              "        text-align: right;\n",
              "    }\n",
              "</style>\n",
              "<table border=\"1\" class=\"dataframe\">\n",
              "  <thead>\n",
              "    <tr style=\"text-align: right;\">\n",
              "      <th></th>\n",
              "      <th>T</th>\n",
              "      <th>P1</th>\n",
              "      <th>P2</th>\n",
              "      <th>runoff</th>\n",
              "    </tr>\n",
              "  </thead>\n",
              "  <tbody>\n",
              "    <tr>\n",
              "      <th>1935-01-01</th>\n",
              "      <td>3.3</td>\n",
              "      <td>32.0</td>\n",
              "      <td>28.9</td>\n",
              "      <td>4.00</td>\n",
              "    </tr>\n",
              "    <tr>\n",
              "      <th>1935-01-02</th>\n",
              "      <td>3.0</td>\n",
              "      <td>0.2</td>\n",
              "      <td>0.2</td>\n",
              "      <td>4.13</td>\n",
              "    </tr>\n",
              "    <tr>\n",
              "      <th>1935-01-03</th>\n",
              "      <td>0.6</td>\n",
              "      <td>0.0</td>\n",
              "      <td>0.0</td>\n",
              "      <td>3.46</td>\n",
              "    </tr>\n",
              "    <tr>\n",
              "      <th>1935-01-04</th>\n",
              "      <td>1.9</td>\n",
              "      <td>16.0</td>\n",
              "      <td>16.7</td>\n",
              "      <td>3.86</td>\n",
              "    </tr>\n",
              "    <tr>\n",
              "      <th>1935-01-05</th>\n",
              "      <td>1.6</td>\n",
              "      <td>8.0</td>\n",
              "      <td>20.7</td>\n",
              "      <td>3.73</td>\n",
              "    </tr>\n",
              "    <tr>\n",
              "      <th>...</th>\n",
              "      <td>...</td>\n",
              "      <td>...</td>\n",
              "      <td>...</td>\n",
              "      <td>...</td>\n",
              "    </tr>\n",
              "    <tr>\n",
              "      <th>1960-12-27</th>\n",
              "      <td>0.2</td>\n",
              "      <td>6.7</td>\n",
              "      <td>5.7</td>\n",
              "      <td>3.60</td>\n",
              "    </tr>\n",
              "    <tr>\n",
              "      <th>1960-12-28</th>\n",
              "      <td>-0.6</td>\n",
              "      <td>0.8</td>\n",
              "      <td>0.2</td>\n",
              "      <td>3.60</td>\n",
              "    </tr>\n",
              "    <tr>\n",
              "      <th>1960-12-29</th>\n",
              "      <td>-3.9</td>\n",
              "      <td>0.0</td>\n",
              "      <td>0.0</td>\n",
              "      <td>3.40</td>\n",
              "    </tr>\n",
              "    <tr>\n",
              "      <th>1960-12-30</th>\n",
              "      <td>-7.0</td>\n",
              "      <td>0.0</td>\n",
              "      <td>0.0</td>\n",
              "      <td>3.32</td>\n",
              "    </tr>\n",
              "    <tr>\n",
              "      <th>1960-12-31</th>\n",
              "      <td>0.7</td>\n",
              "      <td>0.7</td>\n",
              "      <td>1.2</td>\n",
              "      <td>3.40</td>\n",
              "    </tr>\n",
              "  </tbody>\n",
              "</table>\n",
              "<p>3290 rows × 4 columns</p>\n",
              "</div>\n",
              "      <button class=\"colab-df-convert\" onclick=\"convertToInteractive('df-e60d248c-77c0-4de9-bd11-1431b4d5c8a1')\"\n",
              "              title=\"Convert this dataframe to an interactive table.\"\n",
              "              style=\"display:none;\">\n",
              "        \n",
              "  <svg xmlns=\"http://www.w3.org/2000/svg\" height=\"24px\"viewBox=\"0 0 24 24\"\n",
              "       width=\"24px\">\n",
              "    <path d=\"M0 0h24v24H0V0z\" fill=\"none\"/>\n",
              "    <path d=\"M18.56 5.44l.94 2.06.94-2.06 2.06-.94-2.06-.94-.94-2.06-.94 2.06-2.06.94zm-11 1L8.5 8.5l.94-2.06 2.06-.94-2.06-.94L8.5 2.5l-.94 2.06-2.06.94zm10 10l.94 2.06.94-2.06 2.06-.94-2.06-.94-.94-2.06-.94 2.06-2.06.94z\"/><path d=\"M17.41 7.96l-1.37-1.37c-.4-.4-.92-.59-1.43-.59-.52 0-1.04.2-1.43.59L10.3 9.45l-7.72 7.72c-.78.78-.78 2.05 0 2.83L4 21.41c.39.39.9.59 1.41.59.51 0 1.02-.2 1.41-.59l7.78-7.78 2.81-2.81c.8-.78.8-2.07 0-2.86zM5.41 20L4 18.59l7.72-7.72 1.47 1.35L5.41 20z\"/>\n",
              "  </svg>\n",
              "      </button>\n",
              "      \n",
              "  <style>\n",
              "    .colab-df-container {\n",
              "      display:flex;\n",
              "      flex-wrap:wrap;\n",
              "      gap: 12px;\n",
              "    }\n",
              "\n",
              "    .colab-df-convert {\n",
              "      background-color: #E8F0FE;\n",
              "      border: none;\n",
              "      border-radius: 50%;\n",
              "      cursor: pointer;\n",
              "      display: none;\n",
              "      fill: #1967D2;\n",
              "      height: 32px;\n",
              "      padding: 0 0 0 0;\n",
              "      width: 32px;\n",
              "    }\n",
              "\n",
              "    .colab-df-convert:hover {\n",
              "      background-color: #E2EBFA;\n",
              "      box-shadow: 0px 1px 2px rgba(60, 64, 67, 0.3), 0px 1px 3px 1px rgba(60, 64, 67, 0.15);\n",
              "      fill: #174EA6;\n",
              "    }\n",
              "\n",
              "    [theme=dark] .colab-df-convert {\n",
              "      background-color: #3B4455;\n",
              "      fill: #D2E3FC;\n",
              "    }\n",
              "\n",
              "    [theme=dark] .colab-df-convert:hover {\n",
              "      background-color: #434B5C;\n",
              "      box-shadow: 0px 1px 3px 1px rgba(0, 0, 0, 0.15);\n",
              "      filter: drop-shadow(0px 1px 2px rgba(0, 0, 0, 0.3));\n",
              "      fill: #FFFFFF;\n",
              "    }\n",
              "  </style>\n",
              "\n",
              "      <script>\n",
              "        const buttonEl =\n",
              "          document.querySelector('#df-e60d248c-77c0-4de9-bd11-1431b4d5c8a1 button.colab-df-convert');\n",
              "        buttonEl.style.display =\n",
              "          google.colab.kernel.accessAllowed ? 'block' : 'none';\n",
              "\n",
              "        async function convertToInteractive(key) {\n",
              "          const element = document.querySelector('#df-e60d248c-77c0-4de9-bd11-1431b4d5c8a1');\n",
              "          const dataTable =\n",
              "            await google.colab.kernel.invokeFunction('convertToInteractive',\n",
              "                                                     [key], {});\n",
              "          if (!dataTable) return;\n",
              "\n",
              "          const docLinkHtml = 'Like what you see? Visit the ' +\n",
              "            '<a target=\"_blank\" href=https://colab.research.google.com/notebooks/data_table.ipynb>data table notebook</a>'\n",
              "            + ' to learn more about interactive tables.';\n",
              "          element.innerHTML = '';\n",
              "          dataTable['output_type'] = 'display_data';\n",
              "          await google.colab.output.renderOutput(dataTable, element);\n",
              "          const docLink = document.createElement('div');\n",
              "          docLink.innerHTML = docLinkHtml;\n",
              "          element.appendChild(docLink);\n",
              "        }\n",
              "      </script>\n",
              "    </div>\n",
              "  </div>\n",
              "  "
            ]
          },
          "metadata": {},
          "execution_count": 12
        }
      ]
    },
    {
      "cell_type": "code",
      "source": [
        "# define the training set: train_set\n",
        "# Note that the '~' translates to \"not\" - this allows us to find the training \n",
        "# years by specifying it's those not in the list of test_years and validation_years\n",
        "train_set = data.loc[~data.index.isin([*test_years,*validation_years])]"
      ],
      "metadata": {
        "id": "l4Ct_cMZRg-I"
      },
      "execution_count": 13,
      "outputs": []
    },
    {
      "cell_type": "markdown",
      "source": [
        "The data we're using today has already been cleaned up - we know it doesn't have any NaN values. \n",
        "\n",
        "Still, it's good practire to check! Do so in the cell below."
      ],
      "metadata": {
        "id": "7W1IHq11gb33"
      }
    },
    {
      "cell_type": "code",
      "source": [
        "# Since booleans are interpreted as 0 or 1 when doing math, we can use the\n",
        "# isna() method in pandas dataframes and sum the result to check how many NaN\n",
        "# values are in the dataset. We should get 0 today!\n",
        "test_set.isna().sum()"
      ],
      "metadata": {
        "id": "69WrwcJ0eZLD",
        "outputId": "3659c77e-d6e3-434d-d352-fda50dc367dd",
        "colab": {
          "base_uri": "https://localhost:8080/"
        }
      },
      "execution_count": 14,
      "outputs": [
        {
          "output_type": "execute_result",
          "data": {
            "text/plain": [
              "T         0\n",
              "P1        0\n",
              "P2        0\n",
              "runoff    0\n",
              "dtype: int64"
            ]
          },
          "metadata": {},
          "execution_count": 14
        }
      ]
    },
    {
      "cell_type": "code",
      "source": [
        "# Print out the first five rows of each dataset.\n",
        "# Make sure that your split matches ours!\n",
        "print(train_set.head(), val_set.head(), test_set.head(), sep='\\n\\n')"
      ],
      "metadata": {
        "id": "E3ML8czNZSif",
        "outputId": "473d2e2c-7f5c-4928-c767-e7141ccc5815",
        "colab": {
          "base_uri": "https://localhost:8080/"
        }
      },
      "execution_count": 15,
      "outputs": [
        {
          "output_type": "stream",
          "name": "stdout",
          "text": [
            "              T    P1    P2  runoff\n",
            "1931-01-01  3.6   1.6   1.0    3.91\n",
            "1931-01-02  3.6   2.8   3.8    4.01\n",
            "1931-01-03  5.4   0.0   0.1    3.91\n",
            "1931-01-04  3.9  13.1  10.8    4.92\n",
            "1931-01-05  0.5   0.0   0.0    4.67\n",
            "\n",
            "              T    P1    P2  runoff\n",
            "1935-01-01  3.3  32.0  28.9    4.00\n",
            "1935-01-02  3.0   0.2   0.2    4.13\n",
            "1935-01-03  0.6   0.0   0.0    3.46\n",
            "1935-01-04  1.9  16.0  16.7    3.86\n",
            "1935-01-05  1.6   8.0  20.7    3.73\n",
            "\n",
            "              T    P1    P2  runoff\n",
            "1961-01-01  1.0   6.0   7.4     3.6\n",
            "1961-01-02  0.4   0.2   0.0     3.4\n",
            "1961-01-03  2.7  13.7  12.2     3.5\n",
            "1961-01-04  0.3   0.5   2.4     3.4\n",
            "1961-01-05 -0.4   0.3   0.5     3.4\n"
          ]
        }
      ]
    },
    {
      "cell_type": "markdown",
      "source": [
        "You should now have your dataset split up as three pandas dataframes. If you print out the first five rows of each dataset, you should get the following:\n",
        "\n",
        "<center><img src='https://unils-my.sharepoint.com/:i:/g/personal/tom_beucler_unil_ch/EUmui9FDDxxFpxjrY4I7MMABit-4pVJziPGmCZqMMwU28w?download=1'></center>"
      ],
      "metadata": {
        "id": "9p0FKjD6MlnG"
      }
    },
    {
      "cell_type": "markdown",
      "source": [
        "We now have our data for training, validating, and testing our algorithm! However, the values are still the original ones from our measurements. We saw before that we generally want to transform these into stardardized values, otherwise we might end up with a _problem of scales._\n",
        "\n",
        "<center> <img src='https://unils-my.sharepoint.com/:i:/g/personal/tom_beucler_unil_ch/EQEslPIi1XZCgYGqSst2AOsBbZ5NHo7tpj1bFpW8Krzqgg?download=1' width=75%><br><font size=5><i>get it?</i></font></center>\n",
        "\n",
        "With that joke out of our system, let's go ahead and prepare a Scikit-Learn pipeline to scale our data."
      ],
      "metadata": {
        "id": "4yo5mVnAip6V"
      }
    },
    {
      "cell_type": "markdown",
      "source": [
        "###**Q4) Scale the input data using a StandardScaler (i.e., using the mean and standard deviation).**"
      ],
      "metadata": {
        "id": "xkNLBF2wE6bm"
      }
    },
    {
      "cell_type": "code",
      "source": [
        "#@title Hint: Review of Scikit Learn pipelines and transformers\n",
        "'''\n",
        "Scikit include several tools to preprocess data, ranging from utilities for\n",
        "imputation to utilities for scaling data.\n",
        "\n",
        "The column transformer will allow us to apply specific transformers to columns\n",
        "in the pandas dataframe. We also can specify what to do with the \n",
        "columns to which we don't want to apply transformations. You can check the\n",
        "documentation at the link below:\n",
        "https://scikit-learn.org/stable/modules/generated/sklearn.compose.ColumnTransformer.html\n",
        "\n",
        "For example, take a dataframe including the temperature T, sea level pressure\n",
        "SST, relative humidity RH, mean sea level pressure MSLP, and surface pressure SP\n",
        "\n",
        "We want to train a model that takes T, SST, RH, and MSLP to make a weather \n",
        "prediction, and want the variables to be scaled to fit strictly between 0 and 1.\n",
        "Rather than code a script for this, a Column Transformer can be defined that\n",
        "uses remained='drop' as a parameter (thereby dropping SP), and a MinMaxScaler \n",
        "function for the transformer.\n",
        "\n",
        "The code would look something like:\n",
        "preprocesser = ColumnTransformer(\n",
        "                           remainder='drop', \n",
        "                           transformers=[\n",
        "                              ('scaling', MinMaxScaler(), ('T', 'SST', 'RH', 'MSLP')),\n",
        "                           ])\n",
        "\n",
        "The column transformer serves two functions: fitting and transforming\n",
        "When fitting, the transformer takes the input data and figures out how it will\n",
        "transform data later. In the example above, this would include calculating the\n",
        "minimum and maximum value for each column.\n",
        "\n",
        "Transforming takes the fitted transformer and calculates the new values of the\n",
        "column, as well as performing any other operations on the data (e.g., dropping\n",
        "the SP variable).\n",
        "\n",
        "Generally, you want to fit the transformer using the training data, and then\n",
        "transform the training data, the validation data, and the test data. We avoid\n",
        "fitting to the validation and test data.\n",
        "\n",
        "Additionally, though transformer.fit() and transformer.transform() exist\n",
        "individually, fitting to and transforming the training data is so common that\n",
        "a combined method is implemented in sklearn: fit_transform()\n",
        "\n",
        "Today, you should use the StandardScaler in order to process your numerical\n",
        "data. You can find more infomation about StandardScaler in the \n",
        "''';"
      ],
      "metadata": {
        "id": "fg6wC9JvFs7m"
      },
      "execution_count": 16,
      "outputs": []
    },
    {
      "cell_type": "code",
      "source": [
        "# Import the parts of Scikit Learn we need for scaling\n",
        "from sklearn.compose import ColumnTransformer\n",
        "from sklearn.preprocessing import StandardScaler"
      ],
      "metadata": {
        "id": "zh3mtuhw8h7b"
      },
      "execution_count": 17,
      "outputs": []
    },
    {
      "cell_type": "code",
      "source": [
        "# Create a Column Transformer\n",
        "scaler = ColumnTransformer(\n",
        "                           remainder='drop', # We leave the non-input columns alone\n",
        "                           transformers=[\n",
        "                              ('scaling', StandardScaler(), ('T', 'P1', 'P2')),\n",
        "                           ]) #Define the scaler to use and which columns to use it on"
      ],
      "metadata": {
        "id": "iI65j_O9EVmi"
      },
      "execution_count": 18,
      "outputs": []
    },
    {
      "cell_type": "code",
      "source": [
        "train = scaler.fit_transform(train_set) # fit the scaler and transform the train_set\n",
        "val = scaler.transform(val_set) # transform the val_set\n",
        "test = scaler.transform(test_set) # transform the test_set"
      ],
      "metadata": {
        "id": "y9fdLCV8EzUb"
      },
      "execution_count": 19,
      "outputs": []
    },
    {
      "cell_type": "markdown",
      "source": [
        "If you did everything right, the first two rows of your dataset should return:\n",
        "\n",
        "Training: \\\n",
        "`[[-0.67248997 -0.24609328 -0.32674546  3.91      ]`\\\n",
        "` [-0.67248997 -0.07489897  0.08869363  4.01      ]]`\n",
        "\n",
        "Validation: \\\n",
        "`[[-1.28097285 -0.47435235 -0.47511657  3.22      ]`\\\n",
        "`[-1.06462338 -0.10343136 -0.03000326  3.12      ]]`\n",
        "\n",
        "Test:\\\n",
        "`[[-1.02405785  0.38161917  0.6228296   3.6       ]`\\\n",
        "`[-1.1051889  -0.44581996 -0.47511657  3.4       ]]`"
      ],
      "metadata": {
        "id": "7e3qvuPVHZ9r"
      }
    },
    {
      "cell_type": "code",
      "source": [
        "# Make sure your datasets have been scaled correctly\n",
        "print(train[:2], val[:2],test[:2], sep='\\n\\n')"
      ],
      "metadata": {
        "id": "aezcolNxHTE_",
        "outputId": "c9c4133f-da4f-4d24-ca36-1b4e566cfed2",
        "colab": {
          "base_uri": "https://localhost:8080/"
        }
      },
      "execution_count": 20,
      "outputs": [
        {
          "output_type": "stream",
          "name": "stdout",
          "text": [
            "[[-0.65847344 -0.25817963 -0.3331648 ]\n",
            " [-0.65847344 -0.08546749  0.09085389]]\n",
            "\n",
            "[[-0.69921221  4.11719459  3.89187862]\n",
            " [-0.73995098 -0.45967712 -0.454313  ]]\n",
            "\n",
            "[[-1.01154276  0.37509822  0.63602079]\n",
            " [-1.09302029 -0.45967712 -0.48460005]]\n"
          ]
        }
      ]
    },
    {
      "cell_type": "markdown",
      "source": [
        "We're almost ready to start training our algorithm! However, we currently have a list of temperature, precipitation, and runoff readings _for each day_ in our datasets. However, we're interested in looking at an $n$-sized __window__ of temperature and precipitation readings to predict a point in the runoff series! \n",
        "\n",
        "As an example with $ n= 5$: $\\;$\n",
        "to predict the runoff on a given Friday, we need the temperature and precipitation readings for Monday, Tuesday, Wednesday, Thursday, and the Friday itself."
      ],
      "metadata": {
        "id": "dGfL67CdJsXV"
      }
    },
    {
      "cell_type": "markdown",
      "source": [
        "###**Q5) Turn the training, validation, and test data into a set of series to feed into an LSTM**"
      ],
      "metadata": {
        "id": "w8on_0--TzkA"
      }
    },
    {
      "cell_type": "code",
      "source": [
        "# Let's start by printing out the shape of our training dataset\n",
        "print(train.shape)"
      ],
      "metadata": {
        "id": "QH2pRmsHUmgt",
        "outputId": "81e9b3d1-369d-4c04-a6cd-3f528dc727ca",
        "colab": {
          "base_uri": "https://localhost:8080/"
        }
      },
      "execution_count": 21,
      "outputs": [
        {
          "output_type": "stream",
          "name": "stdout",
          "text": [
            "(14610, 3)\n"
          ]
        }
      ]
    },
    {
      "cell_type": "code",
      "source": [
        "# Sequence length will determine how many days we will take into consideration\n",
        "# when trying to predict the runoff. You can try multiple values, and we \n",
        "# recommend you check out the results for n= [7, 30, 182, 365]\n",
        "sequence_length = [7, 30, 182, 365]"
      ],
      "metadata": {
        "id": "Jbm8fYY8Uzae"
      },
      "execution_count": 22,
      "outputs": []
    },
    {
      "cell_type": "code",
      "source": [
        "# In order to get the windows for the input data, we'll rely on numpy's \n",
        "# sliding window view. You can check the documentation for\n",
        "# numpy.lib.stride_tricks.sliding_window_view for more information\n",
        "# https://numpy.org/devdocs/reference/generated/numpy.lib.stride_tricks.sliding_window_view.html\n",
        "\n",
        "window_size = 365\n",
        "\n",
        "\n",
        "# For the source array, since we're saving X, we just need the columns for T,\n",
        "# P1, and P2. We don't want to include the runoff!\n",
        "train_X = np.lib.stride_tricks.sliding_window_view(train[:,:3], # source array\n",
        "                                                   window_size, # window size \n",
        "                                                   axis=0) # Window Sliding Direction\n",
        "\n",
        "val_X = np.lib.stride_tricks.sliding_window_view(val[:,:3], # source array\n",
        "                                                 window_size, # window size \n",
        "                                                 axis=0) # Window Sliding Direction\n",
        "\n",
        "test_X = np.lib.stride_tricks.sliding_window_view(test[:,:3], # source array\n",
        "                                                  window_size, # window size \n",
        "                                                  axis=0) # Window Sliding Direction"
      ],
      "metadata": {
        "id": "pplc9blaZGcb"
      },
      "execution_count": 23,
      "outputs": []
    },
    {
      "cell_type": "markdown",
      "source": [
        "Let's try printing out the shape of a trasnformed dataset..."
      ],
      "metadata": {
        "id": "hFl4_Sulflr-"
      }
    },
    {
      "cell_type": "code",
      "source": [
        "print(train_X.shape)"
      ],
      "metadata": {
        "id": "HlefjFDzfrz-",
        "outputId": "1fbbdb63-3330-4e19-ac66-b160577691b7",
        "colab": {
          "base_uri": "https://localhost:8080/"
        }
      },
      "execution_count": 24,
      "outputs": [
        {
          "output_type": "stream",
          "name": "stdout",
          "text": [
            "(14246, 3, 365)\n"
          ]
        }
      ]
    },
    {
      "cell_type": "markdown",
      "source": [
        "You should find that the dataset has the wrong shape for our purposes! The sliding_window_view function will have returned the data in the shape:\\\n",
        "(number of samples, **number_of_features**, sequence_length) \n",
        "\n",
        "\n",
        "However, the convention we've followed so far in our course (which is quite common in the field) is features last: \\\n",
        "(number of samples, sequence_length, **number_of_features**).\n",
        "\n",
        "We can fix this with `numpy.moveaxis()`!"
      ],
      "metadata": {
        "id": "w6E68TS-f07D"
      }
    },
    {
      "cell_type": "code",
      "source": [
        "train_X = np.moveaxis(train_X, # source array\n",
        "                      1, # axis to move \n",
        "                      2) # destination for the axis\n",
        "\n",
        "val_X = np.moveaxis(val_X, # source array\n",
        "                    1, # axis to move \n",
        "                    2) # destination for the axis\n",
        "\n",
        "test_X = np.moveaxis(test_X, # source array\n",
        "                     1, # axis to move \n",
        "                     2) # destination for the axis"
      ],
      "metadata": {
        "id": "wYCIMzgBugY4"
      },
      "execution_count": 25,
      "outputs": []
    },
    {
      "cell_type": "markdown",
      "source": [
        "We now need to prepare the target data using the runoff column! \\\n",
        "Here, we just need to select the column, skipping over the first ($window\\_size - 1$) elements."
      ],
      "metadata": {
        "id": "FpYhlxdXLcfT"
      }
    },
    {
      "cell_type": "code",
      "source": [
        "# For each set, take the data between the window_size-1th element and the last element\n",
        "train_y = train[window_size-1:,3:]  \n",
        "val_y = val[window_size-1:,3:]\n",
        "test_y = test[window_size-1:,3:]"
      ],
      "metadata": {
        "id": "MeFaGrBjMtbj"
      },
      "execution_count": 26,
      "outputs": []
    },
    {
      "cell_type": "markdown",
      "source": [
        "Let's check the shape of our arrays to make sure that things make sense!"
      ],
      "metadata": {
        "id": "FrSlKIQxXsnF"
      }
    },
    {
      "cell_type": "code",
      "source": [
        "print(f'Train Shape:      X:{train_X.shape}, y:{train_y.shape}',\n",
        "      f'Validation Shape: X:{val_X.shape}, y:{val_y.shape}',\n",
        "      f'Test Shape:       X:{test_X.shape}, y:{test_y.shape}', sep='\\n')"
      ],
      "metadata": {
        "id": "1h9GTFxjNqUg",
        "outputId": "62aa5248-991b-4b68-a5f8-d621a3759933",
        "colab": {
          "base_uri": "https://localhost:8080/"
        }
      },
      "execution_count": 27,
      "outputs": [
        {
          "output_type": "stream",
          "name": "stdout",
          "text": [
            "Train Shape:      X:(14246, 365, 3), y:(14246, 0)\n",
            "Validation Shape: X:(2926, 365, 3), y:(2926, 0)\n",
            "Test Shape:       X:(3288, 365, 3), y:(3288, 0)\n"
          ]
        }
      ]
    },
    {
      "cell_type": "markdown",
      "source": [
        "During development, a window size of 365 days was used. With this window size, the shape of our input/output datasets are: \\\n",
        "`Train Shape:      X:(6941, 365, 3), y:(6941,)` \\\n",
        "`Validation Shape: X:(3289, 365, 3), y:(3289,)` \\\n",
        "`Test Shape:       X:(3288, 365, 3), y:(3288,)`"
      ],
      "metadata": {
        "id": "dYZrn_YAQx9t"
      }
    },
    {
      "cell_type": "markdown",
      "source": [
        "We finally have a dataset that we can easily use to train an LSTM! From this point on, we'll be relying on [PyTorch](https://pytorch.org/) to get our model ready.\n",
        "\n",
        "Let's start by importing the parts that we'll need. We won't hide any of the code here so you can see everything that's being done _without_ extra clicking. \\\n",
        "<center><font size=30>😀</font></center>"
      ],
      "metadata": {
        "id": "y2aOa4YaRRfj"
      }
    },
    {
      "cell_type": "code",
      "source": [
        "# Let's import the main PyTorch library\n",
        "import torch\n",
        "\n",
        "# Let's import the pytorch nn module, which gives us access to a simpler API for \n",
        "# defining our model  (It includes layer abstractions and other nifty tools)\n",
        "import torch.nn as nn\n",
        "\n",
        "# And import utilities to help us easily handle batch sizing\n",
        "from torch.utils.data import DataLoader, TensorDataset"
      ],
      "metadata": {
        "id": "bo0JMDiU0ns-"
      },
      "execution_count": 28,
      "outputs": []
    },
    {
      "cell_type": "code",
      "source": [
        "#@title Run this cell to check if a GPU is available. We'll use a variable called `calc_device` to store either the cpu or gpu to run calculations on. \n",
        "if torch.cuda.device_count()>0:\n",
        "  calc_device = torch.device('cuda:0')\n",
        "else:\n",
        "  calc_device = torch.device('cpu')"
      ],
      "metadata": {
        "id": "5onopneNPDBc"
      },
      "execution_count": 29,
      "outputs": []
    },
    {
      "cell_type": "markdown",
      "source": [
        "First, let's start by moving away from Pandas Dataframes and NumPy N-Dimensional Arrays and into the realm of PyTorch _Tensors_. "
      ],
      "metadata": {
        "id": "AWgt5u-jJWK4"
      }
    },
    {
      "cell_type": "markdown",
      "source": [
        "### **Q6) Convert the prepared datasets into PyTorch Datasets**"
      ],
      "metadata": {
        "id": "s3QqeUcTQNgP"
      }
    },
    {
      "cell_type": "code",
      "source": [
        "#@title Hint: Transitioning from Numpy ND-Arrays to Pytorch Tensors\n",
        "'''\n",
        "Pytorch includes utilities to change from numpy arrays to tensors. These include\n",
        "torch.from_numpy(DATA_SOURCE) and torch.FloatTensor(DATA_SOURCE). We recommend\n",
        "that you use FloatTensor, as its the default precision in PyTorch at the time of\n",
        "writing. \n",
        "\n",
        "Using from_numpy will default to double precision using our scripts so\n",
        "far, and will raise an exception later unless you change everything to double\n",
        "precision.\n",
        "\n",
        "the .to() method sends the tensor to a device. Importantly, all tensors\n",
        "should be on the same device. (Trying to do things across devices is very fancy\n",
        "and is therefore outside the scope of the course!)\n",
        "''';"
      ],
      "metadata": {
        "id": "E79WUAsNqD5o"
      },
      "execution_count": 30,
      "outputs": []
    },
    {
      "cell_type": "code",
      "source": [
        "#@title Hint: Datasets from Tensors\n",
        "'''\n",
        "You can make a dataset by calling \n",
        "torch.TensorDataset(input_tensor, output_tensor)\n",
        "\n",
        "This creates an subscriptable iterator (i.e., you can use an [index] to access \n",
        "the index-th pair of input-output data)\n",
        "\n",
        "Using this abstraction ensures that your input and output tensors have the same\n",
        "size! It's a good sanity check.\n",
        "''';\n",
        "TensorDataset?"
      ],
      "metadata": {
        "id": "UDOspjTxrVsf"
      },
      "execution_count": 31,
      "outputs": []
    },
    {
      "cell_type": "code",
      "metadata": {
        "id": "mDr3yF_cHE9N",
        "outputId": "dd270e13-e675-4d0c-e615-8907693b1791",
        "colab": {
          "base_uri": "https://localhost:8080/"
        }
      },
      "source": [
        "# Let's convert our numpy arrays into tensors\n",
        "train_Xtensor = torch.FloatTensor(train_X).to(calc_device)\n",
        "train_ytensor = torch.FloatTensor(train_y).to(calc_device)\n",
        "\n",
        "val_Xtensor = torch.FloatTensor(val_X).to(calc_device)\n",
        "val_ytensor = torch.FloatTensor(val_y).to(calc_device)\n",
        "\n",
        "test_Xtensor = torch.FloatTensor(test_X).to(calc_device)\n",
        "test_ytensor = torch.FloatTensor(test_y).to(calc_device)"
      ],
      "execution_count": 32,
      "outputs": [
        {
          "output_type": "stream",
          "name": "stderr",
          "text": [
            "<ipython-input-32-8694c3bd6bee>:2: UserWarning: The given NumPy array is not writable, and PyTorch does not support non-writable tensors. This means writing to this tensor will result in undefined behavior. You may want to copy the array to protect its data or make it writable before converting it to a tensor. This type of warning will be suppressed for the rest of this program. (Triggered internally at ../torch/csrc/utils/tensor_numpy.cpp:199.)\n",
            "  train_Xtensor = torch.FloatTensor(train_X).to(calc_device)\n"
          ]
        }
      ]
    },
    {
      "cell_type": "code",
      "source": [
        "# And group them into a dataset using the TensorDataset utility\n",
        "train_data = TensorDataset(train_Xtensor, train_ytensor)\n",
        "val_data = TensorDataset(val_Xtensor, val_ytensor)\n",
        "test_data = TensorDataset(test_Xtensor, test_ytensor)"
      ],
      "metadata": {
        "id": "bJgYWKW8QpKv"
      },
      "execution_count": 33,
      "outputs": []
    },
    {
      "cell_type": "markdown",
      "source": [
        "Let's check that your tensors and datasets have been converted properly. Run the code below and compare it to our results (remember, we used 365 days as the window_size and a batch size of 128 - if your hyperparameters are different your numbers will be different)"
      ],
      "metadata": {
        "id": "wMtICIFlQ5hi"
      }
    },
    {
      "cell_type": "code",
      "source": [
        "print(f'X tensor size (train): {train_Xtensor.size()}',\n",
        "      f'X tensor size (val): {train_Xtensor.size()}',\n",
        "      f'X tensor size (test): {train_Xtensor.size()}\\n',\n",
        "      f'Train dataset size =: {len(train_data)}',\n",
        "      f'Validation dataset size =: {len(val_data)}',\n",
        "      f'Test dataset size =: {len(test_data)}',\n",
        "      sep='\\n')"
      ],
      "metadata": {
        "id": "xwOQSC7_aYPq",
        "outputId": "75095895-2a98-413e-9699-949e0f18e20b",
        "colab": {
          "base_uri": "https://localhost:8080/"
        }
      },
      "execution_count": 34,
      "outputs": [
        {
          "output_type": "stream",
          "name": "stdout",
          "text": [
            "X tensor size (train): torch.Size([14246, 365, 3])\n",
            "X tensor size (val): torch.Size([14246, 365, 3])\n",
            "X tensor size (test): torch.Size([14246, 365, 3])\n",
            "\n",
            "Train dataset size =: 14246\n",
            "Validation dataset size =: 2926\n",
            "Test dataset size =: 3288\n"
          ]
        }
      ]
    },
    {
      "cell_type": "markdown",
      "source": [
        "During development, the output of the cell above was: \\\n",
        "`X tensor size (train): torch.Size([6941, 365, 3])` \\\n",
        "`X tensor size (val): torch.Size([6941, 365, 3])` \\\n",
        "`X tensor size (test): torch.Size([6941, 365, 3])` \\\n",
        "\n",
        "`Train dataset size =: 6941` \\\n",
        "`Validation dataset size =: 3289` \\\n",
        "`Test dataset size =: 3288` \\"
      ],
      "metadata": {
        "id": "d5n-AC3ASIyA"
      }
    },
    {
      "cell_type": "markdown",
      "source": [
        "Now that we have our datasets as PyTorch tensors, we can go ahead and load them into a $\\color{Green}{\\textit{DataLoader}}$. \n",
        "\n",
        "In PyTorch, DataLoaders are an abstraction that let's you do many powerful things to a dataset, such as: getting samples, shuffling, and other operations that are outside of the scope of this lab / course.\n",
        "\n",
        "Before we make the DataLoaders, we need to define some hyperparameters for our training. Specifically, we want to define the __batch size__ \\(i.e., how many sample you train on at a time). We also need to define a setting: the number of workers we'll use.\n",
        "\n",
        "We recommend you use a batch size of 128, and two workers. We won't go into details on how large a batch size to use, especially as there is ongoing research on the topic (e.g., [in](https://arxiv.org/abs/1609.04836) [these](https://arxiv.org/abs/2006.08517) [papers](https://arxiv.org/abs/1711.00489)). However, too large a batch size tends to make it harder for ML algorithms to generalize. As for the number of workers, this is generally dictaded by how many cpu/gpu cores you have available."
      ],
      "metadata": {
        "id": "ubDLMv1jX_Ml"
      }
    },
    {
      "cell_type": "markdown",
      "source": [
        "### **Q7) Define the hyperparameters and settings for training**"
      ],
      "metadata": {
        "id": "qDwKD-h5TezQ"
      }
    },
    {
      "cell_type": "code",
      "source": [
        "#Define the hyperparameters\n",
        "batch_size = 128\n",
        "num_workers = 2"
      ],
      "metadata": {
        "id": "7OhbVw4EdAaI"
      },
      "execution_count": 35,
      "outputs": []
    },
    {
      "cell_type": "markdown",
      "source": [
        "### **Q8) Define the training, validation, and test Dataloaders**"
      ],
      "metadata": {
        "id": "1WGQhEZsT9AL"
      }
    },
    {
      "cell_type": "code",
      "source": [
        "#@title Hint: PyTorch DataLoaders\n",
        "'''\n",
        "PyTorch Dataloaders\n",
        "Now that you have a pytorch dataset, you can feed it into a dataloader.\n",
        "Dataloaders can handle shuffling (important during training! Not so much\n",
        "for validation and testing...), and will automatically cut the data into\n",
        "batches if the batch_size parameter is given.\n",
        "\n",
        "Our data is small this time, so this isn't strictly necessary. But it's good\n",
        "practice.\n",
        "''';\n",
        "DataLoader?"
      ],
      "metadata": {
        "id": "mQaOa7cer96a"
      },
      "execution_count": 36,
      "outputs": []
    },
    {
      "cell_type": "code",
      "source": [
        "train_loader = DataLoader(\n",
        "    dataset=train_data, # Define the dataset to use\n",
        "    batch_size = batch_size, # Set the batch size\n",
        "    shuffle = True # Define if shuffling is necessary for this loader\n",
        ")\n",
        "\n",
        "val_loader = DataLoader(\n",
        "    dataset=val_data, # Define the dataset to use\n",
        "    batch_size = batch_size, # Set the batch size\n",
        "    shuffle = True # Define if shuffling is necessary for this loader\n",
        ")\n",
        "\n",
        "test_loader = DataLoader(\n",
        "    dataset=test_data, # Define the dataset to use\n",
        "    batch_size = batch_size, # Set the batch size\n",
        "    shuffle = True # Define if shuffling is necessary for this loader\n",
        ")"
      ],
      "metadata": {
        "id": "S5xpw6CqZTBC"
      },
      "execution_count": 37,
      "outputs": []
    },
    {
      "cell_type": "markdown",
      "source": [
        "We're now fully ready on the data side - let's go on to setting up the neural network.\n",
        "\n",
        "When we were using Tensorflow, we defined a neural network by defining an instance of `tensorflow.keras.Model()`. Now that we're using pytorch, we'll instead _extend_ the equivalent of the model class in PyTorch - the `nn.Module` class. You can read more about the class in the [documentation](https://pytorch.org/docs/stable/generated/torch.nn.Module.html) online.\n",
        "\n",
        "Whenever we want to design a model with an LSTM layer, we'll need to define how many LSTM units we want to use (this will be the first hyperparameter for our simple LSTM model).\n",
        "\n",
        "We'll also be adding a dropout layer to our simple LSTM architecture. That is, there will be a fixed chance that the output of each LSTM unit will be zeroed during training - this will make our model more robust. Also, the probability of zeroing an output will be another hyperparameter.\n",
        "\n",
        "Finally, the last state of the LSTM layer are going to be combined linearly into a prediction for the runoff at the end of the time series. The default notebook will use a simple linear combination (i.e., we won't be using an activation function on the combination the way we often did before)."
      ],
      "metadata": {
        "id": "z4mb8kMUapCK"
      }
    },
    {
      "cell_type": "markdown",
      "source": [
        "### **Q9) Define the LSTM model architecture**"
      ],
      "metadata": {
        "id": "GR_ILrWjUSFC"
      }
    },
    {
      "cell_type": "code",
      "source": [
        "#@title PyTorch Hints\n",
        "\n",
        "\"\"\"\n",
        "You can uncomment each snippet below to bring up the help pane for each one of\n",
        "the nn.Module, nn.LSTM, nn.Dropout, and nn.Linear objects.\n",
        "\"\"\";\n",
        "\n",
        "#nn.Module?\n",
        "#nn.LSTM?\n",
        "#nn.Dropout?\n",
        "nn.Linear?"
      ],
      "metadata": {
        "id": "N4ql2CWWKNYl"
      },
      "execution_count": 38,
      "outputs": []
    },
    {
      "cell_type": "code",
      "source": [
        "# We'll start by defining a class extension:\n",
        "\n",
        "class MyLSTM(nn.Module): # Define the class which we're extending using our MyLSTM class\n",
        "    # Begin by defining the initialization function for our class\n",
        "    def __init__(self, # The first argument to the class in all methods is itself \n",
        "                hyper1, # Model Hyperparameter 1\n",
        "                hyper2): # ModelHyperparameter 2\n",
        "        \n",
        "        #To make sure our class initializes properly, we'll call its superclass\n",
        "        # (i.e., the class it's based off of) and run its \n",
        "        super(MyLSTM, self).__init__()\n",
        "\n",
        "        # Store the hyperparameters passed into the class during initialization\n",
        "        self.hyper1 = hyper1\n",
        "        self.hyper2 = hyper2\n",
        "\n",
        "        # Define the LSTM layer\n",
        "        self.LSTM_layer = nn.LSTM( # Let's instantiate the pytorch LSTM module \n",
        "            input_size = 3, # The number of features in the input series\n",
        "            hidden_size = self.hyper1, # The number of LSTM cells per layer\n",
        "            num_layers = 1, # The number of LSTM Layers\n",
        "            bias = True, # Enable the use of biases\n",
        "            batch_first = True # Let the layer know the input shape is (batch_size, series_len, num_features) \n",
        "        )\n",
        "\n",
        "        # Define the Dropout Layer\n",
        "        self.dropout_layer = nn.Dropout( #Instantiate the pytorch dropout layer\n",
        "            p = self.hyper2 # Set the dropout rate\n",
        "        )\n",
        "\n",
        "        # Define the the output layer - we'll make a linear aggregation of the LSTM outputs \n",
        "        self.out_layer = nn.Linear( #Instantiate the pytorch linear layer\n",
        "          in_features = self.hyper1, # Number of inputs\n",
        "          out_features = 1 # Number of predictions per number of inputs\n",
        "\n",
        "\n",
        "        )\n",
        "        \n",
        "    # Define the forward pass\n",
        "    def forward(self, X):\n",
        "        \n",
        "        # Calculate the LSTM output, hidden state, and memory cell\n",
        "        # Note that output is not our model's output!\n",
        "        # Read the documentation here: https://pytorch.org/docs/stable/generated/torch.nn.LSTM.html\n",
        "        output, (h_n, c_n)  = self.LSTM_layer(X)\n",
        "        \n",
        "        # Calculate our model's hidden state from the last hidden state of the LSTM\n",
        "        # using our dropout layer\n",
        "        hidden_state = self.dropout_layer(h_n[0])\n",
        "\n",
        "        # Make the prediction by using the relu( dense ( hidden_state ) )      \n",
        "        p_hat = torch.flatten(torch.relu(self.out_layer(hidden_state)))\n",
        "        return p_hat"
      ],
      "metadata": {
        "id": "ehnOQHH-liC8"
      },
      "execution_count": 39,
      "outputs": []
    },
    {
      "cell_type": "markdown",
      "source": [
        "Now that we have the model defined, we'll also be using a metric of performance that is somewhat more uncommon in machine learning applications than in hydrology - the **Nash-Sutcliff-Efficiency (NSE) Coefficient**. You can read more about it [on Wikipedia](https://en.wikipedia.org/wiki/Nash%E2%80%93Sutcliffe_model_efficiency_coefficient)."
      ],
      "metadata": {
        "id": "CaS8neifMRlD"
      }
    },
    {
      "cell_type": "code",
      "source": [
        "#@title Run this cell to define the NSE calculation function. It will be accessible as `calc_NSE`\n",
        "\n",
        "# Customzied evaluation metric NSE for validation set and test set # \n",
        "def calc_nse(sim: torch.FloatTensor, obs: torch.FloatTensor, global_obs_mean: torch.FloatTensor) -> float:\n",
        "    \"\"\"Calculate the Nash-Sutcliff-Efficiency coefficient.\n",
        "\n",
        "    :param obs: Array containing the observations\n",
        "    :param sim: Array containing the simulations\n",
        "    :param global_obs_mean: mean of the whole observation series\n",
        "    :return: NSE value.\n",
        "    \"\"\"\n",
        "    numerator = torch.square(sim - obs).sum()\n",
        "    denominator = torch.square(obs - global_obs_mean).sum()\n",
        "    nse_val = 1 - numerator / denominator\n",
        "\n",
        "    return nse_val"
      ],
      "metadata": {
        "id": "nzO7zA8zP6bj"
      },
      "execution_count": 40,
      "outputs": []
    },
    {
      "cell_type": "markdown",
      "source": [
        "The next thing we need to think about is the hyperparameters for our model and training. More specifically, we need to choose:\n",
        "* a number of LSTM units\n",
        "* the dropout rate \n",
        "* define our loss function\n",
        "* choose our optimizer and its parameters. \n",
        "* define the number of epochs we will train for\n",
        "\n",
        "Thankfully, it's not our first rodeo! \\\n",
        "<center><font size=30>🤠</font></center>\n",
        "\n",
        "Regarding the number of units, we chose 16 units during development of the notebook. Feel free to change this, e.g. to values between 1 and 128.\n",
        "\n",
        "The dropout rate is the probability that an LSTM unit will be zeroed. We'll set it to 0.125 (i.e., 1/8), which means we expect to drop the output from ~two of the LSTM cells at random. You can read more [here](https://pytorch.org/docs/stable/generated/torch.nn.Dropout.html).\n",
        "\n",
        "Since this is a regression problem, we'll rely on MSE as the loss function.\n",
        "\n",
        "We've also know that Adam is a reliable optimizer, so we'll go ahead and use that. Adam needs us to define a learning rate, and $1*10^{-3}$ is a common default value. We'll try it out to see if it's appropriate.  \n",
        "\n",
        " Note that you're free to play around with these hyperparameters - your performance will just be different from the ones we will show if you do so. I'm sure you can find a better solution 😀"
      ],
      "metadata": {
        "id": "yeK-XEuzWits"
      }
    },
    {
      "cell_type": "markdown",
      "source": [
        "### **Q10) Define the loss function, instantiate the model, define the optimizer, and set the number of epochs to iterate through**"
      ],
      "metadata": {
        "id": "GasdRSUyUdqP"
      }
    },
    {
      "cell_type": "code",
      "source": [
        "# Define the loss function for training \n",
        "loss_func = nn.MSELoss()\n",
        "\n",
        "# Instantiate our LSTM model\n",
        "model = MyLSTM(hyper1=16, # Hyperparameter 1\n",
        "               hyper2=0.125, # Hyperparameter 2\n",
        "               ).to(calc_device) # Make sure the model is on the same device as the Tensors \n",
        "\n",
        "# Define our optimizer\n",
        "optimizer = torch.optim.Adam(model.parameters(), # We need to pass the parameters the optimizer will optimize\n",
        "                             lr=0.001) # and pass the learning rate for the optimizer\n",
        "\n",
        "# Define the number of epochs\n",
        "num_epochs = 100"
      ],
      "metadata": {
        "id": "KoFpcBctTa0J"
      },
      "execution_count": 41,
      "outputs": []
    },
    {
      "cell_type": "markdown",
      "source": [
        "We're almost ready to train our model. Before we move on to the training routine, let's take a minute to define how we will evaluate the performance of the model - both for validation during training and for testing after training! "
      ],
      "metadata": {
        "id": "oe6xRxpvVb5_"
      }
    },
    {
      "cell_type": "markdown",
      "source": [
        "### **Q11) Define the model evaluation function**"
      ],
      "metadata": {
        "id": "lCZDtFnwWC6v"
      }
    },
    {
      "cell_type": "code",
      "source": [
        "def eval_model(model, # the model to be evaluated\n",
        "               dataloader, # the dataloader for the dataset used for the evaluation\n",
        "               loss_func, # the main loss function to be used \n",
        "               perf_metric): # the function to be used as a performance metric\n",
        "    # Tell pytorch that we don't need to keep track of the gradients\n",
        "    # After all, gradients are only used during training.\n",
        "\n",
        "    with torch.no_grad():       \n",
        "        \n",
        "        #Zero the loss and the metric\n",
        "        loss = 0\n",
        "        metric = 0\n",
        "\n",
        "        # We'll start by calculating the mean of the whole dataset\n",
        "        # This will be used in the NSE coefficient calculation\n",
        "        \n",
        "        # Start by defining a placeholder variable for the sum of the \n",
        "        # observations, and another for the number of datapoints in the set\n",
        "        global_sum = 0\n",
        "        label_size = 0\n",
        "\n",
        "        # Iterate through the features and labels in the dataloader\n",
        "        for inputs, labels in dataloader:\n",
        "            # add the sum of the labels to the global sum\n",
        "            global_sum += labels.sum()\n",
        "\n",
        "            # Keep track of how many labels we've seen\n",
        "            label_size += len(labels) \n",
        "        \n",
        "        # Calculate the mean of the observations using the information gathered\n",
        "        global_mean = global_sum/label_size\n",
        "\n",
        "        # Iterate through the features and labels in the dataloader, this time\n",
        "        # for evaluating the model\n",
        "        for inputs, labels in dataloader:\n",
        "            # get predictions from the model using the features in the batch\n",
        "            predictions = model(inputs)\n",
        "\n",
        "            # calculate the batch loss\n",
        "            batch_loss = loss_func(predictions, labels)\n",
        "\n",
        "            #calculate the batch metric\n",
        "            batch_metric = perf_metric(predictions, labels, global_mean)\n",
        "\n",
        "            # Keep track of the loss and metric. Remember to convert them from \n",
        "            # pytorch tensors to scalars\n",
        "            loss += batch_loss.item()\n",
        "            metric += batch_metric.item()\n",
        "        \n",
        "        # Calculate the number of batches in the dataloader\n",
        "        num_batches = len(dataloader)\n",
        "\n",
        "        # Calculate the mean loss\n",
        "        loss = loss/num_batches\n",
        "        metric = metric/num_batches\n",
        "        \n",
        "        return (loss, metric)"
      ],
      "metadata": {
        "id": "sFG54eNEW3Y_"
      },
      "execution_count": 42,
      "outputs": []
    },
    {
      "cell_type": "markdown",
      "source": [
        "With PyTorch, unlike with Keras, we need to write out the training and evaluation routines! We'll do this by using a nested for loops - the outer loop will run for the number of epochs, while the inner loops will iterate over the batches to train and validate the model. \n",
        "\n",
        "The outer loop will do the following:\n",
        "  \n",
        "* Set the training loss to zero \n",
        "* Train the model \n",
        "* Get the validation loss and metrics using our evaluation function\n",
        "* Store the training and validation metrics\n",
        "\n"
      ],
      "metadata": {
        "id": "gV0JeIYwV52x"
      }
    },
    {
      "cell_type": "markdown",
      "source": [
        "### **Q12) Write the training loop**"
      ],
      "metadata": {
        "id": "11092VtXbGK4"
      }
    },
    {
      "cell_type": "code",
      "source": [
        "# Define empty lists that will be used to keep track of the training losses,\n",
        "# validation losses, and validation metrics  \n",
        "train_losses = []\n",
        "val_losses = []\n",
        "val_metrics = []\n",
        "\n",
        "#\n",
        "for epoch in range(num_epochs):\n",
        "    # Zero the training loss\n",
        "    train_loss = 0\n",
        "\n",
        "    # Iterate through the features and labels in the train dataloader \n",
        "    for feat, lab in train_loader:\n",
        "        # We need to zero the gradients associated with the model parameters.\n",
        "        # We can do this directly using the optimizer\n",
        "        optimizer.zero_grad()\n",
        "\n",
        "        # Get predictions from the features using the model\n",
        "        pred = model(feat)\n",
        "\n",
        "        # And use the predictions to calculate the batch loss\n",
        "        batch_loss = loss_func(pred, lab)\n",
        "\n",
        "        # Do the backprogragation from the batch_loss\n",
        "        batch_loss.backward()\n",
        "\n",
        "        # Step through the optimizer\n",
        "        optimizer.step()\n",
        "\n",
        "        # Keep track of the train loss sum. \n",
        "        # Remember to turn the tensor into a scalar!\n",
        "        train_loss += batch_loss.item()\n",
        "\n",
        "    # Calculate the number of batches in the training dataloader\n",
        "    num_batches = len(train_loader)\n",
        "\n",
        "    # Get the mean training loss over the batches\n",
        "    train_loss = train_loss/num_batches\n",
        "\n",
        "    # And append it into the list we defined to keep track of the loss\n",
        "    train_losses.append(train_loss)\n",
        "    \n",
        "    # Calculate the validation loss and metric.\n",
        "    # Use the function we defined before!\n",
        "    val_loss, val_NSE = eval_model(model, # The model\n",
        "                                val_loader, # The dataloader\n",
        "                                loss_func, # The loss function\n",
        "                                val_metrics) # The metric function\n",
        "\n",
        "    # Append the metric and loss values into the lists we made to keep track\n",
        "    val_losses.append(val_loss)\n",
        "    val_NSE.append(val_NSE)\n",
        "\n",
        "    # We want to save the model if it's the best version of it we've found\n",
        "    # during training. If the NSE coefficient is the maximum in our training \n",
        "    # history, we'll go ahead and save the model as our best model.\n",
        "    if val_NSE >= max(val_NSE):\n",
        "      torch.save(model, './best_model.pt')\n",
        "\n",
        "    # And print out a statement to keep track of our training as we iterate\n",
        "    print(f'\\rEpoch: {epoch+1}/{num_epochs},' # Current epoch, total number of epochs\n",
        "          f'train_loss: {train_loss},' # training loss we found this epoch\n",
        "          f'val_loss: {val_loss},' # validation loss we found this epoch\n",
        "          f'NSE: {val_NSE}', # NSE coefficient we found this epoch\n",
        "          end=\"\")\n",
        " "
      ],
      "metadata": {
        "id": "gdkT3SMjbCib",
        "outputId": "68eb0964-4197-447a-de42-df8230025e76",
        "colab": {
          "base_uri": "https://localhost:8080/",
          "height": 436
        }
      },
      "execution_count": 43,
      "outputs": [
        {
          "output_type": "stream",
          "name": "stderr",
          "text": [
            "/usr/local/lib/python3.8/dist-packages/torch/nn/modules/loss.py:536: UserWarning: Using a target size (torch.Size([128, 0])) that is different to the input size (torch.Size([128])). This will likely lead to incorrect results due to broadcasting. Please ensure they have the same size.\n",
            "  return F.mse_loss(input, target, reduction=self.reduction)\n"
          ]
        },
        {
          "output_type": "error",
          "ename": "RuntimeError",
          "evalue": "ignored",
          "traceback": [
            "\u001b[0;31m---------------------------------------------------------------------------\u001b[0m",
            "\u001b[0;31mRuntimeError\u001b[0m                              Traceback (most recent call last)",
            "\u001b[0;32m<ipython-input-43-24091050ddc4>\u001b[0m in \u001b[0;36m<module>\u001b[0;34m\u001b[0m\n\u001b[1;32m     20\u001b[0m \u001b[0;34m\u001b[0m\u001b[0m\n\u001b[1;32m     21\u001b[0m         \u001b[0;31m# And use the predictions to calculate the batch loss\u001b[0m\u001b[0;34m\u001b[0m\u001b[0;34m\u001b[0m\u001b[0;34m\u001b[0m\u001b[0m\n\u001b[0;32m---> 22\u001b[0;31m         \u001b[0mbatch_loss\u001b[0m \u001b[0;34m=\u001b[0m \u001b[0mloss_func\u001b[0m\u001b[0;34m(\u001b[0m\u001b[0mpred\u001b[0m\u001b[0;34m,\u001b[0m \u001b[0mlab\u001b[0m\u001b[0;34m)\u001b[0m\u001b[0;34m\u001b[0m\u001b[0;34m\u001b[0m\u001b[0m\n\u001b[0m\u001b[1;32m     23\u001b[0m \u001b[0;34m\u001b[0m\u001b[0m\n\u001b[1;32m     24\u001b[0m         \u001b[0;31m# Do the backprogragation from the batch_loss\u001b[0m\u001b[0;34m\u001b[0m\u001b[0;34m\u001b[0m\u001b[0;34m\u001b[0m\u001b[0m\n",
            "\u001b[0;32m/usr/local/lib/python3.8/dist-packages/torch/nn/modules/module.py\u001b[0m in \u001b[0;36m_call_impl\u001b[0;34m(self, *input, **kwargs)\u001b[0m\n\u001b[1;32m   1188\u001b[0m         if not (self._backward_hooks or self._forward_hooks or self._forward_pre_hooks or _global_backward_hooks\n\u001b[1;32m   1189\u001b[0m                 or _global_forward_hooks or _global_forward_pre_hooks):\n\u001b[0;32m-> 1190\u001b[0;31m             \u001b[0;32mreturn\u001b[0m \u001b[0mforward_call\u001b[0m\u001b[0;34m(\u001b[0m\u001b[0;34m*\u001b[0m\u001b[0minput\u001b[0m\u001b[0;34m,\u001b[0m \u001b[0;34m**\u001b[0m\u001b[0mkwargs\u001b[0m\u001b[0;34m)\u001b[0m\u001b[0;34m\u001b[0m\u001b[0;34m\u001b[0m\u001b[0m\n\u001b[0m\u001b[1;32m   1191\u001b[0m         \u001b[0;31m# Do not call functions when jit is used\u001b[0m\u001b[0;34m\u001b[0m\u001b[0;34m\u001b[0m\u001b[0;34m\u001b[0m\u001b[0m\n\u001b[1;32m   1192\u001b[0m         \u001b[0mfull_backward_hooks\u001b[0m\u001b[0;34m,\u001b[0m \u001b[0mnon_full_backward_hooks\u001b[0m \u001b[0;34m=\u001b[0m \u001b[0;34m[\u001b[0m\u001b[0;34m]\u001b[0m\u001b[0;34m,\u001b[0m \u001b[0;34m[\u001b[0m\u001b[0;34m]\u001b[0m\u001b[0;34m\u001b[0m\u001b[0;34m\u001b[0m\u001b[0m\n",
            "\u001b[0;32m/usr/local/lib/python3.8/dist-packages/torch/nn/modules/loss.py\u001b[0m in \u001b[0;36mforward\u001b[0;34m(self, input, target)\u001b[0m\n\u001b[1;32m    534\u001b[0m \u001b[0;34m\u001b[0m\u001b[0m\n\u001b[1;32m    535\u001b[0m     \u001b[0;32mdef\u001b[0m \u001b[0mforward\u001b[0m\u001b[0;34m(\u001b[0m\u001b[0mself\u001b[0m\u001b[0;34m,\u001b[0m \u001b[0minput\u001b[0m\u001b[0;34m:\u001b[0m \u001b[0mTensor\u001b[0m\u001b[0;34m,\u001b[0m \u001b[0mtarget\u001b[0m\u001b[0;34m:\u001b[0m \u001b[0mTensor\u001b[0m\u001b[0;34m)\u001b[0m \u001b[0;34m->\u001b[0m \u001b[0mTensor\u001b[0m\u001b[0;34m:\u001b[0m\u001b[0;34m\u001b[0m\u001b[0;34m\u001b[0m\u001b[0m\n\u001b[0;32m--> 536\u001b[0;31m         \u001b[0;32mreturn\u001b[0m \u001b[0mF\u001b[0m\u001b[0;34m.\u001b[0m\u001b[0mmse_loss\u001b[0m\u001b[0;34m(\u001b[0m\u001b[0minput\u001b[0m\u001b[0;34m,\u001b[0m \u001b[0mtarget\u001b[0m\u001b[0;34m,\u001b[0m \u001b[0mreduction\u001b[0m\u001b[0;34m=\u001b[0m\u001b[0mself\u001b[0m\u001b[0;34m.\u001b[0m\u001b[0mreduction\u001b[0m\u001b[0;34m)\u001b[0m\u001b[0;34m\u001b[0m\u001b[0;34m\u001b[0m\u001b[0m\n\u001b[0m\u001b[1;32m    537\u001b[0m \u001b[0;34m\u001b[0m\u001b[0m\n\u001b[1;32m    538\u001b[0m \u001b[0;34m\u001b[0m\u001b[0m\n",
            "\u001b[0;32m/usr/local/lib/python3.8/dist-packages/torch/nn/functional.py\u001b[0m in \u001b[0;36mmse_loss\u001b[0;34m(input, target, size_average, reduce, reduction)\u001b[0m\n\u001b[1;32m   3289\u001b[0m         \u001b[0mreduction\u001b[0m \u001b[0;34m=\u001b[0m \u001b[0m_Reduction\u001b[0m\u001b[0;34m.\u001b[0m\u001b[0mlegacy_get_string\u001b[0m\u001b[0;34m(\u001b[0m\u001b[0msize_average\u001b[0m\u001b[0;34m,\u001b[0m \u001b[0mreduce\u001b[0m\u001b[0;34m)\u001b[0m\u001b[0;34m\u001b[0m\u001b[0;34m\u001b[0m\u001b[0m\n\u001b[1;32m   3290\u001b[0m \u001b[0;34m\u001b[0m\u001b[0m\n\u001b[0;32m-> 3291\u001b[0;31m     \u001b[0mexpanded_input\u001b[0m\u001b[0;34m,\u001b[0m \u001b[0mexpanded_target\u001b[0m \u001b[0;34m=\u001b[0m \u001b[0mtorch\u001b[0m\u001b[0;34m.\u001b[0m\u001b[0mbroadcast_tensors\u001b[0m\u001b[0;34m(\u001b[0m\u001b[0minput\u001b[0m\u001b[0;34m,\u001b[0m \u001b[0mtarget\u001b[0m\u001b[0;34m)\u001b[0m\u001b[0;34m\u001b[0m\u001b[0;34m\u001b[0m\u001b[0m\n\u001b[0m\u001b[1;32m   3292\u001b[0m     \u001b[0;32mreturn\u001b[0m \u001b[0mtorch\u001b[0m\u001b[0;34m.\u001b[0m\u001b[0m_C\u001b[0m\u001b[0;34m.\u001b[0m\u001b[0m_nn\u001b[0m\u001b[0;34m.\u001b[0m\u001b[0mmse_loss\u001b[0m\u001b[0;34m(\u001b[0m\u001b[0mexpanded_input\u001b[0m\u001b[0;34m,\u001b[0m \u001b[0mexpanded_target\u001b[0m\u001b[0;34m,\u001b[0m \u001b[0m_Reduction\u001b[0m\u001b[0;34m.\u001b[0m\u001b[0mget_enum\u001b[0m\u001b[0;34m(\u001b[0m\u001b[0mreduction\u001b[0m\u001b[0;34m)\u001b[0m\u001b[0;34m)\u001b[0m\u001b[0;34m\u001b[0m\u001b[0;34m\u001b[0m\u001b[0m\n\u001b[1;32m   3293\u001b[0m \u001b[0;34m\u001b[0m\u001b[0m\n",
            "\u001b[0;32m/usr/local/lib/python3.8/dist-packages/torch/functional.py\u001b[0m in \u001b[0;36mbroadcast_tensors\u001b[0;34m(*tensors)\u001b[0m\n\u001b[1;32m     72\u001b[0m     \u001b[0;32mif\u001b[0m \u001b[0mhas_torch_function\u001b[0m\u001b[0;34m(\u001b[0m\u001b[0mtensors\u001b[0m\u001b[0;34m)\u001b[0m\u001b[0;34m:\u001b[0m\u001b[0;34m\u001b[0m\u001b[0;34m\u001b[0m\u001b[0m\n\u001b[1;32m     73\u001b[0m         \u001b[0;32mreturn\u001b[0m \u001b[0mhandle_torch_function\u001b[0m\u001b[0;34m(\u001b[0m\u001b[0mbroadcast_tensors\u001b[0m\u001b[0;34m,\u001b[0m \u001b[0mtensors\u001b[0m\u001b[0;34m,\u001b[0m \u001b[0;34m*\u001b[0m\u001b[0mtensors\u001b[0m\u001b[0;34m)\u001b[0m\u001b[0;34m\u001b[0m\u001b[0;34m\u001b[0m\u001b[0m\n\u001b[0;32m---> 74\u001b[0;31m     \u001b[0;32mreturn\u001b[0m \u001b[0m_VF\u001b[0m\u001b[0;34m.\u001b[0m\u001b[0mbroadcast_tensors\u001b[0m\u001b[0;34m(\u001b[0m\u001b[0mtensors\u001b[0m\u001b[0;34m)\u001b[0m  \u001b[0;31m# type: ignore[attr-defined]\u001b[0m\u001b[0;34m\u001b[0m\u001b[0;34m\u001b[0m\u001b[0m\n\u001b[0m\u001b[1;32m     75\u001b[0m \u001b[0;34m\u001b[0m\u001b[0m\n\u001b[1;32m     76\u001b[0m \u001b[0;34m\u001b[0m\u001b[0m\n",
            "\u001b[0;31mRuntimeError\u001b[0m: The size of tensor a (128) must match the size of tensor b (0) at non-singleton dimension 1"
          ]
        }
      ]
    },
    {
      "cell_type": "markdown",
      "source": [
        "Was not able to resolve above error :("
      ],
      "metadata": {
        "id": "yeIHYSu4PEgK"
      }
    },
    {
      "cell_type": "code",
      "source": [
        "#@title Run this cell to load the best model from our training before we evaluate the performance.\n",
        "model = torch.load( './best_model.pt')"
      ],
      "metadata": {
        "id": "jRH51uE2aq4f"
      },
      "execution_count": null,
      "outputs": []
    },
    {
      "cell_type": "code",
      "source": [
        "# Plotting out the Training and Validation performance. We'll use \n",
        "# torch.no_grad() since we don't need to calculate the gradients for\n",
        "# plotting\n",
        "with torch.no_grad():\n",
        "    fig, ax = plt.subplots(figsize = (20,5), dpi=150)\n",
        "    \n",
        "    # Plot the training losses\n",
        "    ax.plot(train_losses,\n",
        "            c='black', \n",
        "            linewidth=1,\n",
        "            label='Training Loss')\n",
        "    \n",
        "    # Plot the validation losses\n",
        "    ax.plot(val_losses,\n",
        "            c='orange', \n",
        "            linewidth=1,\n",
        "            label='Validation Loss')\n",
        "    \n",
        "    # Empty NSE plot, used for easy legend generation\n",
        "    ax.plot([],\n",
        "            color='teal',\n",
        "            label='Nash-Sutcliff-Efficiency')\n",
        "    \n",
        "    # Copy\n",
        "    metric_ax = ax.twinx()\n",
        "    metric_ax.plot(val_NSEs,\n",
        "            c='teal', \n",
        "            linewidth=1,\n",
        "            label='Nash-Sutcliff-Efficiency')\n",
        "    metric_ax.set_ylim([-1,1])\n",
        "    metric_ax.set_yticks(np.arange(-1,1.01,0.25))\n",
        "    ax.autoscale(enable=True, axis='x', tight=True)\n",
        "    ax.legend(loc='center right')\n",
        "    fig.set_facecolor('lightgrey')  "
      ],
      "metadata": {
        "id": "-GJ6LBV4yuXF"
      },
      "execution_count": null,
      "outputs": []
    },
    {
      "cell_type": "markdown",
      "source": [
        "If you did everything the exact same way we did during development of the notebook (i.e., you chose the same hyperparameters as us) you should$^*$ get a set of training curves that look just like the ones below:\n",
        "<center><img src='https://unils-my.sharepoint.com/:i:/g/personal/tom_beucler_unil_ch/EV_Tbnodg1VEkMbDkk8eRYgBE0KAl9KgnIYLKxLtb0lTog?download=1' width=100%>\n",
        "\n",
        "$_{^{*}\\text{GPU calculations are often non-deterministic for performance reasons, so you should get something remarkably similar, though not quite the same}}$"
      ],
      "metadata": {
        "id": "pyBZVqG8aldp"
      }
    },
    {
      "cell_type": "code",
      "source": [
        "#Plotting out the Predicted Time Series on the Dataset\n",
        "test_obs_mean = torch.mean(test_ytensor)\n",
        "with torch.no_grad():\n",
        "    fig, ax = plt.subplots(figsize = (20,5), dpi=150)\n",
        "    ax.plot(test_set.index[window_size-1:], \n",
        "            test_ytensor.cpu().numpy(),\n",
        "            c='teal', \n",
        "            linewidth=1,\n",
        "            label='Observed')\n",
        "    ax.plot(test_set.index[window_size-1:], \n",
        "            model(test_Xtensor).cpu().numpy(), \n",
        "            c='orange', \n",
        "            alpha=0.85, \n",
        "            linewidth=1,\n",
        "            label='Predictions')\n",
        "    ax.axhline(test_ytensor.mean().item(), color='teal', alpha=0.5, linestyle='--', label='Observation Mean')\n",
        "    ax.legend()\n",
        "    mse, NSE = eval_model(model,\n",
        "                          test_loader,\n",
        "                          loss_func,\n",
        "                          calc_nse)\n",
        "    fig.suptitle('Performance on Test Dataset', size=14)\n",
        "    fig.set_facecolor('lightgrey')\n",
        "    ax.set_title(f'MSE: {mse:0.2f}  Nash-Sutcliff-Efficiency: {NSE:0.2f}', size=11)\n",
        "    ax.set_ylabel('Discharge ($\\\\frac{mm}{day}$)', size=11)\n",
        "    ax.autoscale(enable=True, axis='x', tight=True)"
      ],
      "metadata": {
        "id": "JtspqneDGs03"
      },
      "execution_count": null,
      "outputs": []
    },
    {
      "cell_type": "markdown",
      "source": [
        "Finally, assuming your decisions and ours were the same, evaluating your model with the code above should$^*$ give you the figure below:\n",
        "<center><img src='https://unils-my.sharepoint.com/:i:/g/personal/tom_beucler_unil_ch/EUEtOgx5IzBJjIFELU3KdvIBDpFB1d_qnNr_HarNvVMGYA?download=1' width=100%>\n",
        "\n",
        "$_{^{*}\\text{Once again, GPU operations are generally non-deterministic - you should get something remarkably similar}}$"
      ],
      "metadata": {
        "id": "-ml5iZxkdl7-"
      }
    },
    {
      "cell_type": "code",
      "source": [],
      "metadata": {
        "id": "C_pVBY9NJ1jB"
      },
      "execution_count": null,
      "outputs": []
    }
  ]
}